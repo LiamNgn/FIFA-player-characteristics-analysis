{
 "cells": [
  {
   "cell_type": "code",
   "execution_count": 67,
   "id": "d6ee220c",
   "metadata": {
    "ExecuteTime": {
     "end_time": "2022-02-13T16:36:09.825696Z",
     "start_time": "2022-02-13T16:36:09.767250Z"
    }
   },
   "outputs": [],
   "source": [
    "## Import necessary module\n",
    "import pandas as pd\n",
    "import numpy as np\n",
    "import os\n",
    "from matplotlib import pyplot as plt\n",
    "from sklearn.cluster import KMeans\n",
    "from sklearn.cluster import AffinityPropagation\n",
    "from sklearn import metrics\n",
    "from sklearn import preprocessing\n",
    "from sklearn.preprocessing import StandardScaler\n",
    "from sklearn.tree import DecisionTreeClassifier\n",
    "from sklearn.tree import DecisionTreeRegressor\n",
    "from sklearn.model_selection import train_test_split\n",
    "from sklearn.tree import DecisionTreeClassifier\n",
    "from sklearn.model_selection import GridSearchCV\n",
    "from sklearn.metrics import roc_auc_score\n",
    "from sklearn.metrics import confusion_matrix\n",
    "import seaborn as sns\n",
    "from sklearn.ensemble import RandomForestClassifier\n",
    "%matplotlib inline\n",
    "from sklearn import tree\n",
    "from sklearn.metrics import roc_curve, roc_auc_score\n",
    "from sklearn.metrics import accuracy_score\n",
    "from imblearn.over_sampling import SMOTE\n",
    "from imblearn.under_sampling import RandomUnderSampler\n",
    "from collections import Counter\n",
    "from sklearn.metrics import classification_report\n",
    "import statistics as stat\n",
    "from sklearn.model_selection import cross_val_score\n",
    "from sklearn.model_selection import RepeatedStratifiedKFold\n",
    "from sklearn.discriminant_analysis import LinearDiscriminantAnalysis\n",
    "import plotly.express as px\n",
    "from sklearn.model_selection import RandomizedSearchCV\n",
    "from sklearn.model_selection import validation_curve\n",
    "from numpy import mean\n",
    "from numpy import std"
   ]
  },
  {
   "cell_type": "markdown",
   "id": "23e2d14a",
   "metadata": {
    "ExecuteTime": {
     "end_time": "2022-02-02T15:43:42.615332Z",
     "start_time": "2022-02-02T15:43:42.597588Z"
    }
   },
   "source": [
    "### Data cleaning and preprocessing"
   ]
  },
  {
   "cell_type": "code",
   "execution_count": 2,
   "id": "1c0ee937",
   "metadata": {
    "ExecuteTime": {
     "end_time": "2022-02-13T15:56:12.303379Z",
     "start_time": "2022-02-13T15:56:12.290011Z"
    }
   },
   "outputs": [],
   "source": [
    "#Create list of position for aggregating\n",
    "offensive = [\"RW\", \"ST\", \"LW\", \"CF\", \"RS\", \"LS\", \"RF\", \"LF\"]\n",
    "middle = [\"RCM\", \"CDM\", \"RDM\", \"LCM\", \"CAM\", \"LDM\", \"LM\", \"RM\", \"CM\", \"LAM\", \"RAM\"]\n",
    "defensive = [\"LCB\", \"RCB\", \"LB\", \"RB\", \"CB\", \"RWB\", \"LWB\"]\n",
    "gk = [\"GK\"]"
   ]
  },
  {
   "cell_type": "code",
   "execution_count": 3,
   "id": "5b5f4739",
   "metadata": {
    "ExecuteTime": {
     "end_time": "2022-02-13T15:56:12.319175Z",
     "start_time": "2022-02-13T15:56:12.305264Z"
    }
   },
   "outputs": [],
   "source": [
    "#List of column to keep\n",
    "columns_to_keep = ['short_name', 'club_position', 'age','potential','international_reputation', \n",
    "                   'pace', 'shooting', 'passing', 'value_eur',\n",
    "       'dribbling', 'defending', 'physic', 'attacking_crossing',\n",
    "       'attacking_finishing', 'attacking_heading_accuracy',\n",
    "       'attacking_short_passing', 'attacking_volleys', 'skill_dribbling',\n",
    "       'skill_curve', 'skill_fk_accuracy', 'skill_long_passing',\n",
    "       'skill_ball_control', 'movement_acceleration', 'movement_sprint_speed',\n",
    "       'movement_agility', 'movement_reactions', 'movement_balance',\n",
    "       'power_shot_power', 'power_jumping', 'power_stamina', 'power_strength',\n",
    "       'power_long_shots', 'mentality_aggression', 'mentality_interceptions',\n",
    "       'mentality_positioning', 'mentality_vision', 'mentality_penalties',\n",
    "       'mentality_composure', 'defending_marking_awareness',\n",
    "       'defending_standing_tackle', 'defending_sliding_tackle',\n",
    "       'goalkeeping_diving', 'goalkeeping_handling', 'goalkeeping_kicking',\n",
    "       'goalkeeping_positioning']"
   ]
  },
  {
   "cell_type": "code",
   "execution_count": 4,
   "id": "9a469a77",
   "metadata": {
    "ExecuteTime": {
     "end_time": "2022-02-13T15:56:12.692435Z",
     "start_time": "2022-02-13T15:56:12.320557Z"
    }
   },
   "outputs": [
    {
     "name": "stderr",
     "output_type": "stream",
     "text": [
      "d:\\python\\lib\\site-packages\\IPython\\core\\interactiveshell.py:3441: DtypeWarning: Columns (25,108) have mixed types.Specify dtype option on import or set low_memory=False.\n",
      "  exec(code_obj, self.user_global_ns, self.user_ns)\n"
     ]
    }
   ],
   "source": [
    "#Read dataset and create position variable\n",
    "df = pd.read_csv('players_22.csv')\n",
    "df = df[columns_to_keep]\n",
    "#df.loc[df['goalkeeping_speed'].isna(),'goalkeeping_speed'] = 0\n",
    "df.drop(df.columns[df.columns.str.contains('url')],axis=1,inplace=True)\n",
    "df['position'] = np.nan\n",
    "df.loc[df['club_position'].isin(middle),'position'] = 'middle'\n",
    "df.loc[df['club_position'].isin(offensive),'position'] = 'offensive'\n",
    "df.loc[df['club_position'].isin(defensive),'position'] = 'defensive'\n",
    "df.loc[df['club_position'].isin(gk),'position'] = 'gk'\n",
    "df['position'] = np.where(df['position'].isna(),df['club_position'],df['position'])\n"
   ]
  },
  {
   "cell_type": "code",
   "execution_count": 144,
   "id": "81f1d9bd",
   "metadata": {
    "ExecuteTime": {
     "end_time": "2022-02-13T20:00:16.101399Z",
     "start_time": "2022-02-13T20:00:16.027327Z"
    }
   },
   "outputs": [],
   "source": [
    "k_char = df[['KCluster','pace','shooting','dribbling',\n",
    "'defending','physic','passing','value_eur']].groupby('KCluster').agg('mean')\\\n",
    "    .round(0).reset_index()"
   ]
  },
  {
   "cell_type": "markdown",
   "id": "23863f71",
   "metadata": {
    "ExecuteTime": {
     "end_time": "2022-02-10T18:36:56.618657Z",
     "start_time": "2022-02-10T18:36:56.606676Z"
    }
   },
   "source": [
    "#### Exploratory Data Analysis"
   ]
  },
  {
   "cell_type": "code",
   "execution_count": 6,
   "id": "890ab0f4",
   "metadata": {
    "ExecuteTime": {
     "end_time": "2022-02-13T15:56:12.738616Z",
     "start_time": "2022-02-13T15:56:12.709207Z"
    }
   },
   "outputs": [],
   "source": [
    "#Fill na and drop uncessary observation\n",
    "df.fillna({'pace':0,'shooting':0,'passing':0,'dribbling':0,'defending':0,'physic':0},inplace=True)\n",
    "df.dropna(inplace=True)\n",
    "df=df[~df['position'].isin(['RES','SUB'])]"
   ]
  },
  {
   "cell_type": "code",
   "execution_count": 20,
   "id": "0d13f437",
   "metadata": {
    "ExecuteTime": {
     "end_time": "2022-02-10T18:50:12.103301Z",
     "start_time": "2022-02-10T18:50:12.082412Z"
    }
   },
   "outputs": [
    {
     "data": {
      "text/html": [
       "<div>\n",
       "<style scoped>\n",
       "    .dataframe tbody tr th:only-of-type {\n",
       "        vertical-align: middle;\n",
       "    }\n",
       "\n",
       "    .dataframe tbody tr th {\n",
       "        vertical-align: top;\n",
       "    }\n",
       "\n",
       "    .dataframe thead th {\n",
       "        text-align: right;\n",
       "    }\n",
       "</style>\n",
       "<table border=\"1\" class=\"dataframe\">\n",
       "  <thead>\n",
       "    <tr style=\"text-align: right;\">\n",
       "      <th></th>\n",
       "      <th>short_name</th>\n",
       "      <th>club_position</th>\n",
       "      <th>age</th>\n",
       "      <th>potential</th>\n",
       "      <th>international_reputation</th>\n",
       "      <th>pace</th>\n",
       "      <th>shooting</th>\n",
       "      <th>passing</th>\n",
       "      <th>value_eur</th>\n",
       "      <th>dribbling</th>\n",
       "      <th>...</th>\n",
       "      <th>mentality_penalties</th>\n",
       "      <th>mentality_composure</th>\n",
       "      <th>defending_marking_awareness</th>\n",
       "      <th>defending_standing_tackle</th>\n",
       "      <th>defending_sliding_tackle</th>\n",
       "      <th>goalkeeping_diving</th>\n",
       "      <th>goalkeeping_handling</th>\n",
       "      <th>goalkeeping_kicking</th>\n",
       "      <th>goalkeeping_positioning</th>\n",
       "      <th>position</th>\n",
       "    </tr>\n",
       "  </thead>\n",
       "  <tbody>\n",
       "    <tr>\n",
       "      <th>0</th>\n",
       "      <td>L. Messi</td>\n",
       "      <td>RW</td>\n",
       "      <td>34</td>\n",
       "      <td>93</td>\n",
       "      <td>5</td>\n",
       "      <td>85.0</td>\n",
       "      <td>92.0</td>\n",
       "      <td>91.0</td>\n",
       "      <td>78000000.0</td>\n",
       "      <td>95.0</td>\n",
       "      <td>...</td>\n",
       "      <td>75</td>\n",
       "      <td>96</td>\n",
       "      <td>20</td>\n",
       "      <td>35</td>\n",
       "      <td>24</td>\n",
       "      <td>6</td>\n",
       "      <td>11</td>\n",
       "      <td>15</td>\n",
       "      <td>14</td>\n",
       "      <td>offensive</td>\n",
       "    </tr>\n",
       "    <tr>\n",
       "      <th>1</th>\n",
       "      <td>R. Lewandowski</td>\n",
       "      <td>ST</td>\n",
       "      <td>32</td>\n",
       "      <td>92</td>\n",
       "      <td>5</td>\n",
       "      <td>78.0</td>\n",
       "      <td>92.0</td>\n",
       "      <td>79.0</td>\n",
       "      <td>119500000.0</td>\n",
       "      <td>86.0</td>\n",
       "      <td>...</td>\n",
       "      <td>90</td>\n",
       "      <td>88</td>\n",
       "      <td>35</td>\n",
       "      <td>42</td>\n",
       "      <td>19</td>\n",
       "      <td>15</td>\n",
       "      <td>6</td>\n",
       "      <td>12</td>\n",
       "      <td>8</td>\n",
       "      <td>offensive</td>\n",
       "    </tr>\n",
       "    <tr>\n",
       "      <th>2</th>\n",
       "      <td>Cristiano Ronaldo</td>\n",
       "      <td>ST</td>\n",
       "      <td>36</td>\n",
       "      <td>91</td>\n",
       "      <td>5</td>\n",
       "      <td>87.0</td>\n",
       "      <td>94.0</td>\n",
       "      <td>80.0</td>\n",
       "      <td>45000000.0</td>\n",
       "      <td>88.0</td>\n",
       "      <td>...</td>\n",
       "      <td>88</td>\n",
       "      <td>95</td>\n",
       "      <td>24</td>\n",
       "      <td>32</td>\n",
       "      <td>24</td>\n",
       "      <td>7</td>\n",
       "      <td>11</td>\n",
       "      <td>15</td>\n",
       "      <td>14</td>\n",
       "      <td>offensive</td>\n",
       "    </tr>\n",
       "    <tr>\n",
       "      <th>3</th>\n",
       "      <td>Neymar Jr</td>\n",
       "      <td>LW</td>\n",
       "      <td>29</td>\n",
       "      <td>91</td>\n",
       "      <td>5</td>\n",
       "      <td>91.0</td>\n",
       "      <td>83.0</td>\n",
       "      <td>86.0</td>\n",
       "      <td>129000000.0</td>\n",
       "      <td>94.0</td>\n",
       "      <td>...</td>\n",
       "      <td>93</td>\n",
       "      <td>93</td>\n",
       "      <td>35</td>\n",
       "      <td>32</td>\n",
       "      <td>29</td>\n",
       "      <td>9</td>\n",
       "      <td>9</td>\n",
       "      <td>15</td>\n",
       "      <td>15</td>\n",
       "      <td>offensive</td>\n",
       "    </tr>\n",
       "    <tr>\n",
       "      <th>4</th>\n",
       "      <td>K. De Bruyne</td>\n",
       "      <td>RCM</td>\n",
       "      <td>30</td>\n",
       "      <td>91</td>\n",
       "      <td>4</td>\n",
       "      <td>76.0</td>\n",
       "      <td>86.0</td>\n",
       "      <td>93.0</td>\n",
       "      <td>125500000.0</td>\n",
       "      <td>88.0</td>\n",
       "      <td>...</td>\n",
       "      <td>83</td>\n",
       "      <td>89</td>\n",
       "      <td>68</td>\n",
       "      <td>65</td>\n",
       "      <td>53</td>\n",
       "      <td>15</td>\n",
       "      <td>13</td>\n",
       "      <td>5</td>\n",
       "      <td>10</td>\n",
       "      <td>middle</td>\n",
       "    </tr>\n",
       "  </tbody>\n",
       "</table>\n",
       "<p>5 rows × 46 columns</p>\n",
       "</div>"
      ],
      "text/plain": [
       "          short_name club_position  age  potential  international_reputation  \\\n",
       "0           L. Messi            RW   34         93                         5   \n",
       "1     R. Lewandowski            ST   32         92                         5   \n",
       "2  Cristiano Ronaldo            ST   36         91                         5   \n",
       "3          Neymar Jr            LW   29         91                         5   \n",
       "4       K. De Bruyne           RCM   30         91                         4   \n",
       "\n",
       "   pace  shooting  passing    value_eur  dribbling  ...  mentality_penalties  \\\n",
       "0  85.0      92.0     91.0   78000000.0       95.0  ...                   75   \n",
       "1  78.0      92.0     79.0  119500000.0       86.0  ...                   90   \n",
       "2  87.0      94.0     80.0   45000000.0       88.0  ...                   88   \n",
       "3  91.0      83.0     86.0  129000000.0       94.0  ...                   93   \n",
       "4  76.0      86.0     93.0  125500000.0       88.0  ...                   83   \n",
       "\n",
       "   mentality_composure  defending_marking_awareness  \\\n",
       "0                   96                           20   \n",
       "1                   88                           35   \n",
       "2                   95                           24   \n",
       "3                   93                           35   \n",
       "4                   89                           68   \n",
       "\n",
       "   defending_standing_tackle  defending_sliding_tackle  goalkeeping_diving  \\\n",
       "0                         35                        24                   6   \n",
       "1                         42                        19                  15   \n",
       "2                         32                        24                   7   \n",
       "3                         32                        29                   9   \n",
       "4                         65                        53                  15   \n",
       "\n",
       "   goalkeeping_handling  goalkeeping_kicking  goalkeeping_positioning  \\\n",
       "0                    11                   15                       14   \n",
       "1                     6                   12                        8   \n",
       "2                    11                   15                       14   \n",
       "3                     9                   15                       15   \n",
       "4                    13                    5                       10   \n",
       "\n",
       "    position  \n",
       "0  offensive  \n",
       "1  offensive  \n",
       "2  offensive  \n",
       "3  offensive  \n",
       "4     middle  \n",
       "\n",
       "[5 rows x 46 columns]"
      ]
     },
     "execution_count": 20,
     "metadata": {},
     "output_type": "execute_result"
    }
   ],
   "source": [
    "df.head()"
   ]
  },
  {
   "cell_type": "code",
   "execution_count": 96,
   "id": "9f00584a",
   "metadata": {
    "ExecuteTime": {
     "end_time": "2022-02-13T17:26:15.661993Z",
     "start_time": "2022-02-13T17:26:15.617561Z"
    }
   },
   "outputs": [
    {
     "data": {
      "text/plain": [
       "defensive    2848\n",
       "middle       2790\n",
       "offensive    1367\n",
       "gk            701\n",
       "Name: position, dtype: int64"
      ]
     },
     "execution_count": 96,
     "metadata": {},
     "output_type": "execute_result"
    }
   ],
   "source": [
    "#Number of players in each position\n",
    "df['position'].value_counts()"
   ]
  },
  {
   "cell_type": "code",
   "execution_count": 10,
   "id": "befda8d9",
   "metadata": {
    "ExecuteTime": {
     "end_time": "2022-02-11T14:25:14.376273Z",
     "start_time": "2022-02-11T14:25:14.086291Z"
    }
   },
   "outputs": [
    {
     "name": "stderr",
     "output_type": "stream",
     "text": [
      "d:\\python\\lib\\site-packages\\seaborn\\_decorators.py:36: FutureWarning: Pass the following variable as a keyword arg: x. From version 0.12, the only valid positional argument will be `data`, and passing other arguments without an explicit keyword will result in an error or misinterpretation.\n",
      "  warnings.warn(\n"
     ]
    },
    {
     "data": {
      "image/png": "[encoded data removed]",
      "text/plain": [
       "<Figure size 1296x576 with 1 Axes>"
      ]
     },
     "metadata": {
      "needs_background": "light"
     },
     "output_type": "display_data"
    }
   ],
   "source": [
    "plt.figure(figsize = (18, 8))\n",
    "plt.style.use('fivethirtyeight')\n",
    "ax = sns.countplot('position', data = df, palette = 'pastel')\n",
    "ax.set_xlabel(xlabel = 'Different Positions in Football', fontsize = 16)\n",
    "ax.set_ylabel(ylabel = 'Count of Players', fontsize = 16)\n",
    "ax.set_title(label = 'Comparison of Positions and Players', fontsize = 20)\n",
    "plt.show()"
   ]
  },
  {
   "cell_type": "code",
   "execution_count": 9,
   "id": "bd88a485",
   "metadata": {
    "ExecuteTime": {
     "end_time": "2022-02-11T14:25:14.083477Z",
     "start_time": "2022-02-11T14:25:07.381949Z"
    }
   },
   "outputs": [
    {
     "data": {
      "image/png": "[encoded data removed]",
      "text/plain": [
       "<Figure size 720x720 with 20 Axes>"
      ]
     },
     "metadata": {
      "needs_background": "light"
     },
     "output_type": "display_data"
    }
   ],
   "source": [
    "#Correlation and distribution plot between select variables\n",
    "g = sns.pairplot(df[['value_eur','age','potential','shooting']])"
   ]
  },
  {
   "cell_type": "code",
   "execution_count": 8,
   "id": "c12da34d",
   "metadata": {
    "ExecuteTime": {
     "end_time": "2022-02-11T17:55:26.399441Z",
     "start_time": "2022-02-11T17:55:26.378976Z"
    }
   },
   "outputs": [
    {
     "data": {
      "text/plain": [
       "short_name                     0\n",
       "club_position                  0\n",
       "age                            0\n",
       "potential                      0\n",
       "international_reputation       0\n",
       "pace                           0\n",
       "shooting                       0\n",
       "passing                        0\n",
       "value_eur                      0\n",
       "dribbling                      0\n",
       "defending                      0\n",
       "physic                         0\n",
       "attacking_crossing             0\n",
       "attacking_finishing            0\n",
       "attacking_heading_accuracy     0\n",
       "attacking_short_passing        0\n",
       "attacking_volleys              0\n",
       "skill_dribbling                0\n",
       "skill_curve                    0\n",
       "skill_fk_accuracy              0\n",
       "skill_long_passing             0\n",
       "skill_ball_control             0\n",
       "movement_acceleration          0\n",
       "movement_sprint_speed          0\n",
       "movement_agility               0\n",
       "movement_reactions             0\n",
       "movement_balance               0\n",
       "power_shot_power               0\n",
       "power_jumping                  0\n",
       "power_stamina                  0\n",
       "power_strength                 0\n",
       "power_long_shots               0\n",
       "mentality_aggression           0\n",
       "mentality_interceptions        0\n",
       "mentality_positioning          0\n",
       "mentality_vision               0\n",
       "mentality_penalties            0\n",
       "mentality_composure            0\n",
       "defending_marking_awareness    0\n",
       "defending_standing_tackle      0\n",
       "defending_sliding_tackle       0\n",
       "goalkeeping_diving             0\n",
       "goalkeeping_handling           0\n",
       "goalkeeping_kicking            0\n",
       "goalkeeping_positioning        0\n",
       "position                       0\n",
       "dtype: int64"
      ]
     },
     "execution_count": 8,
     "metadata": {},
     "output_type": "execute_result"
    }
   ],
   "source": [
    "#Count number of missing value\n",
    "df.isna().sum()"
   ]
  },
  {
   "cell_type": "markdown",
   "id": "f1dc56ed",
   "metadata": {
    "ExecuteTime": {
     "end_time": "2022-02-11T20:25:18.204540Z",
     "start_time": "2022-02-11T20:25:18.192447Z"
    }
   },
   "source": [
    "#### Train-Test splitting"
   ]
  },
  {
   "cell_type": "code",
   "execution_count": 7,
   "id": "20c5198b",
   "metadata": {
    "ExecuteTime": {
     "end_time": "2022-02-13T15:56:14.945674Z",
     "start_time": "2022-02-13T15:56:14.920078Z"
    }
   },
   "outputs": [],
   "source": [
    "#Create independent and dependent variable\n",
    "y = df['position']\n",
    "#x = df.drop('position',axis=1)\n",
    "x = df._get_numeric_data()"
   ]
  },
  {
   "cell_type": "code",
   "execution_count": 8,
   "id": "bd0d8218",
   "metadata": {
    "ExecuteTime": {
     "end_time": "2022-02-13T15:56:16.385063Z",
     "start_time": "2022-02-13T15:56:16.376464Z"
    }
   },
   "outputs": [],
   "source": [
    "#Split train-test set\n",
    "x_train, x_test, y_train, y_test = train_test_split(x, y, test_size=0.25)"
   ]
  },
  {
   "cell_type": "code",
   "execution_count": 110,
   "id": "f0f1255c",
   "metadata": {
    "ExecuteTime": {
     "end_time": "2022-02-13T17:55:10.247992Z",
     "start_time": "2022-02-13T17:55:10.230713Z"
    }
   },
   "outputs": [],
   "source": [
    "#Standardization variables for clustering\n",
    "scale= StandardScaler()\n",
    "x = scale.fit_transform(x) "
   ]
  },
  {
   "cell_type": "markdown",
   "id": "fb3af0e8",
   "metadata": {
    "ExecuteTime": {
     "end_time": "2022-02-07T09:44:42.965500Z",
     "start_time": "2022-02-07T09:44:42.961261Z"
    }
   },
   "source": [
    "### Decision tree and Random Forest"
   ]
  },
  {
   "cell_type": "markdown",
   "id": "708d6be2",
   "metadata": {
    "ExecuteTime": {
     "end_time": "2022-02-11T19:45:25.060623Z",
     "start_time": "2022-02-11T19:45:25.040803Z"
    }
   },
   "source": [
    "#### Decision tree"
   ]
  },
  {
   "cell_type": "code",
   "execution_count": 122,
   "id": "9338ba74",
   "metadata": {
    "ExecuteTime": {
     "end_time": "2022-02-13T18:08:56.052164Z",
     "start_time": "2022-02-13T18:08:55.928083Z"
    }
   },
   "outputs": [
    {
     "data": {
      "text/plain": [
       "DecisionTreeClassifier(random_state=42)"
      ]
     },
     "execution_count": 122,
     "metadata": {},
     "output_type": "execute_result"
    }
   ],
   "source": [
    "dt_default = DecisionTreeClassifier(random_state=42)\n",
    "dt_default.fit(x_train, y_train)"
   ]
  },
  {
   "cell_type": "code",
   "execution_count": 123,
   "id": "e2be5905",
   "metadata": {
    "ExecuteTime": {
     "end_time": "2022-02-13T18:08:56.209170Z",
     "start_time": "2022-02-13T18:08:56.189286Z"
    }
   },
   "outputs": [],
   "source": [
    "#Train the default model on test set\n",
    "expected_y = y_test\n",
    "predicted_y = dt_default.predict(x_test)"
   ]
  },
  {
   "cell_type": "code",
   "execution_count": 124,
   "id": "89799bb1",
   "metadata": {
    "ExecuteTime": {
     "end_time": "2022-02-13T18:08:56.649558Z",
     "start_time": "2022-02-13T18:08:56.600698Z"
    }
   },
   "outputs": [
    {
     "name": "stdout",
     "output_type": "stream",
     "text": [
      "              precision    recall  f1-score   support\n",
      "\n",
      "   defensive       0.86      0.83      0.84       695\n",
      "          gk       1.00      1.00      1.00       170\n",
      "      middle       0.72      0.73      0.72       715\n",
      "   offensive       0.69      0.69      0.69       347\n",
      "\n",
      "    accuracy                           0.78      1927\n",
      "   macro avg       0.81      0.81      0.81      1927\n",
      "weighted avg       0.79      0.78      0.78      1927\n",
      "\n",
      "[[579   0 110   6]\n",
      " [  0 170   0   0]\n",
      " [ 89   0 522 104]\n",
      " [  9   0  98 240]]\n"
     ]
    }
   ],
   "source": [
    "#Create classification report of default model on test set\n",
    "print(metrics.classification_report(expected_y, predicted_y))\n",
    "print(metrics.confusion_matrix(expected_y, predicted_y))"
   ]
  },
  {
   "cell_type": "code",
   "execution_count": 54,
   "id": "d4dd57fa",
   "metadata": {
    "ExecuteTime": {
     "end_time": "2022-02-13T16:14:05.368974Z",
     "start_time": "2022-02-13T16:14:05.363586Z"
    }
   },
   "outputs": [],
   "source": [
    "#Create hyperparameter for grid search\n",
    "params = {\n",
    "    'max_depth': [2, 3, 5, 10, 20],\n",
    "    'min_samples_leaf': [5, 10, 20, 50, 100],\n",
    "    'criterion': [\"gini\", \"entropy\"]\n",
    "}"
   ]
  },
  {
   "cell_type": "code",
   "execution_count": 56,
   "id": "49be17fe",
   "metadata": {
    "ExecuteTime": {
     "end_time": "2022-02-13T16:14:06.134447Z",
     "start_time": "2022-02-13T16:14:06.124255Z"
    }
   },
   "outputs": [],
   "source": [
    "#Grid search for all the best hyperparameter\n",
    "clf = DecisionTreeClassifier(random_state=42)\n",
    "grid_search = GridSearchCV(estimator=clf, \n",
    "                           param_grid=params, \n",
    "                           cv=4, n_jobs=-1, verbose=1, scoring = \"accuracy\")\n",
    "%%time\n",
    "grid_search.fit(x_train, y_train)"
   ]
  },
  {
   "cell_type": "code",
   "execution_count": 58,
   "id": "10d37513",
   "metadata": {
    "ExecuteTime": {
     "end_time": "2022-02-13T16:14:44.207144Z",
     "start_time": "2022-02-13T16:14:44.187539Z"
    }
   },
   "outputs": [
    {
     "data": {
      "text/html": [
       "<div>\n",
       "<style scoped>\n",
       "    .dataframe tbody tr th:only-of-type {\n",
       "        vertical-align: middle;\n",
       "    }\n",
       "\n",
       "    .dataframe tbody tr th {\n",
       "        vertical-align: top;\n",
       "    }\n",
       "\n",
       "    .dataframe thead th {\n",
       "        text-align: right;\n",
       "    }\n",
       "</style>\n",
       "<table border=\"1\" class=\"dataframe\">\n",
       "  <thead>\n",
       "    <tr style=\"text-align: right;\">\n",
       "      <th></th>\n",
       "      <th>mean_fit_time</th>\n",
       "      <th>std_fit_time</th>\n",
       "      <th>mean_score_time</th>\n",
       "      <th>std_score_time</th>\n",
       "      <th>param_criterion</th>\n",
       "      <th>param_max_depth</th>\n",
       "      <th>param_min_samples_leaf</th>\n",
       "      <th>params</th>\n",
       "      <th>split0_test_score</th>\n",
       "      <th>split1_test_score</th>\n",
       "      <th>split2_test_score</th>\n",
       "      <th>split3_test_score</th>\n",
       "      <th>mean_test_score</th>\n",
       "      <th>std_test_score</th>\n",
       "      <th>rank_test_score</th>\n",
       "    </tr>\n",
       "  </thead>\n",
       "  <tbody>\n",
       "    <tr>\n",
       "      <th>0</th>\n",
       "      <td>0.026480</td>\n",
       "      <td>0.000531</td>\n",
       "      <td>0.003672</td>\n",
       "      <td>0.000699</td>\n",
       "      <td>gini</td>\n",
       "      <td>2</td>\n",
       "      <td>5</td>\n",
       "      <td>{'criterion': 'gini', 'max_depth': 2, 'min_sam...</td>\n",
       "      <td>0.728028</td>\n",
       "      <td>0.748789</td>\n",
       "      <td>0.734948</td>\n",
       "      <td>0.736842</td>\n",
       "      <td>0.737152</td>\n",
       "      <td>0.007477</td>\n",
       "      <td>41</td>\n",
       "    </tr>\n",
       "    <tr>\n",
       "      <th>1</th>\n",
       "      <td>0.025845</td>\n",
       "      <td>0.000501</td>\n",
       "      <td>0.007373</td>\n",
       "      <td>0.005507</td>\n",
       "      <td>gini</td>\n",
       "      <td>2</td>\n",
       "      <td>10</td>\n",
       "      <td>{'criterion': 'gini', 'max_depth': 2, 'min_sam...</td>\n",
       "      <td>0.728028</td>\n",
       "      <td>0.748789</td>\n",
       "      <td>0.734948</td>\n",
       "      <td>0.736842</td>\n",
       "      <td>0.737152</td>\n",
       "      <td>0.007477</td>\n",
       "      <td>41</td>\n",
       "    </tr>\n",
       "    <tr>\n",
       "      <th>2</th>\n",
       "      <td>0.029757</td>\n",
       "      <td>0.006376</td>\n",
       "      <td>0.005136</td>\n",
       "      <td>0.000549</td>\n",
       "      <td>gini</td>\n",
       "      <td>2</td>\n",
       "      <td>20</td>\n",
       "      <td>{'criterion': 'gini', 'max_depth': 2, 'min_sam...</td>\n",
       "      <td>0.728028</td>\n",
       "      <td>0.748789</td>\n",
       "      <td>0.734948</td>\n",
       "      <td>0.736842</td>\n",
       "      <td>0.737152</td>\n",
       "      <td>0.007477</td>\n",
       "      <td>41</td>\n",
       "    </tr>\n",
       "    <tr>\n",
       "      <th>3</th>\n",
       "      <td>0.029140</td>\n",
       "      <td>0.002934</td>\n",
       "      <td>0.004168</td>\n",
       "      <td>0.000991</td>\n",
       "      <td>gini</td>\n",
       "      <td>2</td>\n",
       "      <td>50</td>\n",
       "      <td>{'criterion': 'gini', 'max_depth': 2, 'min_sam...</td>\n",
       "      <td>0.728028</td>\n",
       "      <td>0.748789</td>\n",
       "      <td>0.734948</td>\n",
       "      <td>0.736842</td>\n",
       "      <td>0.737152</td>\n",
       "      <td>0.007477</td>\n",
       "      <td>41</td>\n",
       "    </tr>\n",
       "    <tr>\n",
       "      <th>4</th>\n",
       "      <td>0.026368</td>\n",
       "      <td>0.001256</td>\n",
       "      <td>0.003850</td>\n",
       "      <td>0.000712</td>\n",
       "      <td>gini</td>\n",
       "      <td>2</td>\n",
       "      <td>100</td>\n",
       "      <td>{'criterion': 'gini', 'max_depth': 2, 'min_sam...</td>\n",
       "      <td>0.728028</td>\n",
       "      <td>0.748789</td>\n",
       "      <td>0.734948</td>\n",
       "      <td>0.736842</td>\n",
       "      <td>0.737152</td>\n",
       "      <td>0.007477</td>\n",
       "      <td>41</td>\n",
       "    </tr>\n",
       "  </tbody>\n",
       "</table>\n",
       "</div>"
      ],
      "text/plain": [
       "   mean_fit_time  std_fit_time  mean_score_time  std_score_time  \\\n",
       "0       0.026480      0.000531         0.003672        0.000699   \n",
       "1       0.025845      0.000501         0.007373        0.005507   \n",
       "2       0.029757      0.006376         0.005136        0.000549   \n",
       "3       0.029140      0.002934         0.004168        0.000991   \n",
       "4       0.026368      0.001256         0.003850        0.000712   \n",
       "\n",
       "  param_criterion param_max_depth param_min_samples_leaf  \\\n",
       "0            gini               2                      5   \n",
       "1            gini               2                     10   \n",
       "2            gini               2                     20   \n",
       "3            gini               2                     50   \n",
       "4            gini               2                    100   \n",
       "\n",
       "                                              params  split0_test_score  \\\n",
       "0  {'criterion': 'gini', 'max_depth': 2, 'min_sam...           0.728028   \n",
       "1  {'criterion': 'gini', 'max_depth': 2, 'min_sam...           0.728028   \n",
       "2  {'criterion': 'gini', 'max_depth': 2, 'min_sam...           0.728028   \n",
       "3  {'criterion': 'gini', 'max_depth': 2, 'min_sam...           0.728028   \n",
       "4  {'criterion': 'gini', 'max_depth': 2, 'min_sam...           0.728028   \n",
       "\n",
       "   split1_test_score  split2_test_score  split3_test_score  mean_test_score  \\\n",
       "0           0.748789           0.734948           0.736842         0.737152   \n",
       "1           0.748789           0.734948           0.736842         0.737152   \n",
       "2           0.748789           0.734948           0.736842         0.737152   \n",
       "3           0.748789           0.734948           0.736842         0.737152   \n",
       "4           0.748789           0.734948           0.736842         0.737152   \n",
       "\n",
       "   std_test_score  rank_test_score  \n",
       "0        0.007477               41  \n",
       "1        0.007477               41  \n",
       "2        0.007477               41  \n",
       "3        0.007477               41  \n",
       "4        0.007477               41  "
      ]
     },
     "execution_count": 58,
     "metadata": {},
     "output_type": "execute_result"
    }
   ],
   "source": [
    "#Create list of grid search result and select top 5\n",
    "score_df = pd.DataFrame(grid_search.cv_results_)\n",
    "score_df.nlargest(5, \"mean_test_score\")"
   ]
  },
  {
   "cell_type": "code",
   "execution_count": 90,
   "id": "717ea30a",
   "metadata": {
    "ExecuteTime": {
     "end_time": "2022-02-13T17:09:53.704548Z",
     "start_time": "2022-02-13T17:09:53.622131Z"
    }
   },
   "outputs": [
    {
     "data": {
      "text/plain": [
       "DecisionTreeClassifier(criterion='entropy', max_depth=10, min_samples_leaf=20,\n",
       "                       random_state=42)"
      ]
     },
     "execution_count": 90,
     "metadata": {},
     "output_type": "execute_result"
    }
   ],
   "source": [
    "#Fit decision tree with the best parameter and predict on test set\n",
    "dt_best = grid_search.best_estimator_\n",
    "dt_best.fit(x_train,y_train)\n",
    "expected_y = y_test\n",
    "predicted_y = dt_best.predict(x_test)"
   ]
  },
  {
   "cell_type": "code",
   "execution_count": 93,
   "id": "643c79f2",
   "metadata": {
    "ExecuteTime": {
     "end_time": "2022-02-13T17:09:56.139517Z",
     "start_time": "2022-02-13T17:09:56.099935Z"
    },
    "scrolled": true
   },
   "outputs": [
    {
     "name": "stdout",
     "output_type": "stream",
     "text": [
      "              precision    recall  f1-score   support\n",
      "\n",
      "   defensive       0.87      0.89      0.88       695\n",
      "          gk       1.00      1.00      1.00       170\n",
      "      middle       0.74      0.75      0.74       715\n",
      "   offensive       0.71      0.65      0.68       347\n",
      "\n",
      "    accuracy                           0.80      1927\n",
      "   macro avg       0.83      0.82      0.82      1927\n",
      "weighted avg       0.80      0.80      0.80      1927\n",
      "\n",
      "[[617   0  76   2]\n",
      " [  0 170   0   0]\n",
      " [ 88   0 537  90]\n",
      " [  8   0 114 225]]\n"
     ]
    }
   ],
   "source": [
    "#Create classification report\n",
    "print(metrics.classification_report(expected_y, predicted_y))\n",
    "print(metrics.confusion_matrix(expected_y, predicted_y))"
   ]
  },
  {
   "cell_type": "code",
   "execution_count": 95,
   "id": "6d530c57",
   "metadata": {
    "ExecuteTime": {
     "end_time": "2022-02-13T17:09:59.358301Z",
     "start_time": "2022-02-13T17:09:59.326741Z"
    }
   },
   "outputs": [],
   "source": [
    "#Export classification report in markdown for converting to LaTex\n",
    "report = classification_report(expected_y, predicted_y, output_dict=True)\n",
    "acc_rep = pd.DataFrame(report).transpose().round(2)\n",
    "acc_rep.to_markdown('accuracy_report.md')"
   ]
  },
  {
   "cell_type": "markdown",
   "id": "46163189",
   "metadata": {
    "ExecuteTime": {
     "end_time": "2022-02-11T23:46:35.681879Z",
     "start_time": "2022-02-11T23:46:35.675971Z"
    }
   },
   "source": [
    "#### Random forest"
   ]
  },
  {
   "cell_type": "code",
   "execution_count": 75,
   "id": "af8ec545",
   "metadata": {
    "ExecuteTime": {
     "end_time": "2022-02-13T17:04:08.985953Z",
     "start_time": "2022-02-13T16:40:10.054426Z"
    }
   },
   "outputs": [
    {
     "name": "stdout",
     "output_type": "stream",
     "text": [
      "Fitting 3 folds for each of 500 candidates, totalling 1500 fits\n"
     ]
    }
   ],
   "source": [
    "#Initizalize random forest and grid search for hyperparameter tuning\n",
    "rfc = RandomForestClassifier()\n",
    "n_estimators = [100, 300, 500, 800, 1200]\n",
    "max_depth = [5, 8, 15, 25, 30]\n",
    "min_samples_split = [2, 5, 10, 15, 100]\n",
    "min_samples_leaf = [1, 2, 5, 10] \n",
    "\n",
    "hyperF = dict(n_estimators = n_estimators, max_depth = max_depth,  \n",
    "              min_samples_split = min_samples_split, \n",
    "             min_samples_leaf = min_samples_leaf)\n",
    "\n",
    "gridF = GridSearchCV(rfc, hyperF, cv = 3, verbose = 1, \n",
    "                      n_jobs = -1)"
   ]
  },
  {
   "cell_type": "code",
   "execution_count": 76,
   "id": "7b005cc2",
   "metadata": {
    "ExecuteTime": {
     "end_time": "2022-02-13T17:05:15.122983Z",
     "start_time": "2022-02-13T17:05:14.999249Z"
    }
   },
   "outputs": [
    {
     "data": {
      "text/html": [
       "<div>\n",
       "<style scoped>\n",
       "    .dataframe tbody tr th:only-of-type {\n",
       "        vertical-align: middle;\n",
       "    }\n",
       "\n",
       "    .dataframe tbody tr th {\n",
       "        vertical-align: top;\n",
       "    }\n",
       "\n",
       "    .dataframe thead th {\n",
       "        text-align: right;\n",
       "    }\n",
       "</style>\n",
       "<table border=\"1\" class=\"dataframe\">\n",
       "  <thead>\n",
       "    <tr style=\"text-align: right;\">\n",
       "      <th></th>\n",
       "      <th>mean_fit_time</th>\n",
       "      <th>std_fit_time</th>\n",
       "      <th>mean_score_time</th>\n",
       "      <th>std_score_time</th>\n",
       "      <th>param_max_depth</th>\n",
       "      <th>param_min_samples_leaf</th>\n",
       "      <th>param_min_samples_split</th>\n",
       "      <th>param_n_estimators</th>\n",
       "      <th>params</th>\n",
       "      <th>split0_test_score</th>\n",
       "      <th>split1_test_score</th>\n",
       "      <th>split2_test_score</th>\n",
       "      <th>mean_test_score</th>\n",
       "      <th>std_test_score</th>\n",
       "      <th>rank_test_score</th>\n",
       "    </tr>\n",
       "  </thead>\n",
       "  <tbody>\n",
       "    <tr>\n",
       "      <th>311</th>\n",
       "      <td>5.229019</td>\n",
       "      <td>0.054307</td>\n",
       "      <td>0.254986</td>\n",
       "      <td>0.061688</td>\n",
       "      <td>25</td>\n",
       "      <td>1</td>\n",
       "      <td>10</td>\n",
       "      <td>300</td>\n",
       "      <td>{'max_depth': 25, 'min_samples_leaf': 1, 'min_...</td>\n",
       "      <td>0.859886</td>\n",
       "      <td>0.851506</td>\n",
       "      <td>0.862409</td>\n",
       "      <td>0.857934</td>\n",
       "      <td>0.004660</td>\n",
       "      <td>1</td>\n",
       "    </tr>\n",
       "    <tr>\n",
       "      <th>327</th>\n",
       "      <td>8.141288</td>\n",
       "      <td>1.045193</td>\n",
       "      <td>0.318298</td>\n",
       "      <td>0.003656</td>\n",
       "      <td>25</td>\n",
       "      <td>2</td>\n",
       "      <td>2</td>\n",
       "      <td>500</td>\n",
       "      <td>{'max_depth': 25, 'min_samples_leaf': 2, 'min_...</td>\n",
       "      <td>0.858848</td>\n",
       "      <td>0.854102</td>\n",
       "      <td>0.859813</td>\n",
       "      <td>0.857588</td>\n",
       "      <td>0.002496</td>\n",
       "      <td>2</td>\n",
       "    </tr>\n",
       "    <tr>\n",
       "      <th>302</th>\n",
       "      <td>7.052934</td>\n",
       "      <td>0.269121</td>\n",
       "      <td>0.292663</td>\n",
       "      <td>0.007967</td>\n",
       "      <td>25</td>\n",
       "      <td>1</td>\n",
       "      <td>2</td>\n",
       "      <td>500</td>\n",
       "      <td>{'max_depth': 25, 'min_samples_leaf': 1, 'min_...</td>\n",
       "      <td>0.860924</td>\n",
       "      <td>0.854102</td>\n",
       "      <td>0.856698</td>\n",
       "      <td>0.857241</td>\n",
       "      <td>0.002811</td>\n",
       "      <td>3</td>\n",
       "    </tr>\n",
       "    <tr>\n",
       "      <th>333</th>\n",
       "      <td>14.126159</td>\n",
       "      <td>0.700689</td>\n",
       "      <td>0.566779</td>\n",
       "      <td>0.055010</td>\n",
       "      <td>25</td>\n",
       "      <td>2</td>\n",
       "      <td>5</td>\n",
       "      <td>800</td>\n",
       "      <td>{'max_depth': 25, 'min_samples_leaf': 2, 'min_...</td>\n",
       "      <td>0.859367</td>\n",
       "      <td>0.853063</td>\n",
       "      <td>0.858255</td>\n",
       "      <td>0.856895</td>\n",
       "      <td>0.002747</td>\n",
       "      <td>4</td>\n",
       "    </tr>\n",
       "    <tr>\n",
       "      <th>404</th>\n",
       "      <td>19.658531</td>\n",
       "      <td>4.536987</td>\n",
       "      <td>0.888816</td>\n",
       "      <td>0.208411</td>\n",
       "      <td>30</td>\n",
       "      <td>1</td>\n",
       "      <td>2</td>\n",
       "      <td>1200</td>\n",
       "      <td>{'max_depth': 30, 'min_samples_leaf': 1, 'min_...</td>\n",
       "      <td>0.858848</td>\n",
       "      <td>0.852025</td>\n",
       "      <td>0.859294</td>\n",
       "      <td>0.856722</td>\n",
       "      <td>0.003326</td>\n",
       "      <td>5</td>\n",
       "    </tr>\n",
       "  </tbody>\n",
       "</table>\n",
       "</div>"
      ],
      "text/plain": [
       "     mean_fit_time  std_fit_time  mean_score_time  std_score_time  \\\n",
       "311       5.229019      0.054307         0.254986        0.061688   \n",
       "327       8.141288      1.045193         0.318298        0.003656   \n",
       "302       7.052934      0.269121         0.292663        0.007967   \n",
       "333      14.126159      0.700689         0.566779        0.055010   \n",
       "404      19.658531      4.536987         0.888816        0.208411   \n",
       "\n",
       "    param_max_depth param_min_samples_leaf param_min_samples_split  \\\n",
       "311              25                      1                      10   \n",
       "327              25                      2                       2   \n",
       "302              25                      1                       2   \n",
       "333              25                      2                       5   \n",
       "404              30                      1                       2   \n",
       "\n",
       "    param_n_estimators                                             params  \\\n",
       "311                300  {'max_depth': 25, 'min_samples_leaf': 1, 'min_...   \n",
       "327                500  {'max_depth': 25, 'min_samples_leaf': 2, 'min_...   \n",
       "302                500  {'max_depth': 25, 'min_samples_leaf': 1, 'min_...   \n",
       "333                800  {'max_depth': 25, 'min_samples_leaf': 2, 'min_...   \n",
       "404               1200  {'max_depth': 30, 'min_samples_leaf': 1, 'min_...   \n",
       "\n",
       "     split0_test_score  split1_test_score  split2_test_score  mean_test_score  \\\n",
       "311           0.859886           0.851506           0.862409         0.857934   \n",
       "327           0.858848           0.854102           0.859813         0.857588   \n",
       "302           0.860924           0.854102           0.856698         0.857241   \n",
       "333           0.859367           0.853063           0.858255         0.856895   \n",
       "404           0.858848           0.852025           0.859294         0.856722   \n",
       "\n",
       "     std_test_score  rank_test_score  \n",
       "311        0.004660                1  \n",
       "327        0.002496                2  \n",
       "302        0.002811                3  \n",
       "333        0.002747                4  \n",
       "404        0.003326                5  "
      ]
     },
     "execution_count": 76,
     "metadata": {},
     "output_type": "execute_result"
    }
   ],
   "source": [
    "#Create the dataframe of combination of hyperparameter and select the best five\n",
    "score_df = pd.DataFrame(gridF.cv_results_)\n",
    "score_df.nlargest(5, \"mean_test_score\")"
   ]
  },
  {
   "cell_type": "code",
   "execution_count": 84,
   "id": "19738784",
   "metadata": {
    "ExecuteTime": {
     "end_time": "2022-02-13T17:07:25.850543Z",
     "start_time": "2022-02-13T17:07:22.944255Z"
    }
   },
   "outputs": [
    {
     "data": {
      "text/plain": [
       "RandomForestClassifier(max_depth=25, min_samples_split=10, n_estimators=300)"
      ]
     },
     "execution_count": 84,
     "metadata": {},
     "output_type": "execute_result"
    }
   ],
   "source": [
    "#Fit the model with best parameter and predict on test set\n",
    "rfc_best = gridF.best_estimator_\n",
    "rfc_best.fit(x_train,y_train)\n",
    "expected_y = y_test\n",
    "predicted_y = rfc_best.predict(x_test)"
   ]
  },
  {
   "cell_type": "code",
   "execution_count": 86,
   "id": "a1009560",
   "metadata": {
    "ExecuteTime": {
     "end_time": "2022-02-13T17:07:32.596215Z",
     "start_time": "2022-02-13T17:07:32.554837Z"
    }
   },
   "outputs": [
    {
     "name": "stdout",
     "output_type": "stream",
     "text": [
      "              precision    recall  f1-score   support\n",
      "\n",
      "   defensive       0.89      0.93      0.91       695\n",
      "          gk       1.00      1.00      1.00       170\n",
      "      middle       0.80      0.81      0.81       715\n",
      "   offensive       0.79      0.71      0.75       347\n",
      "\n",
      "    accuracy                           0.85      1927\n",
      "   macro avg       0.87      0.86      0.87      1927\n",
      "weighted avg       0.85      0.85      0.85      1927\n",
      "\n",
      "[[646   0  48   1]\n",
      " [  0 170   0   0]\n",
      " [ 71   0 581  63]\n",
      " [  5   0  94 248]]\n"
     ]
    }
   ],
   "source": [
    "#Print classification report on test set\n",
    "print(metrics.classification_report(expected_y, predicted_y))\n",
    "print(metrics.confusion_matrix(expected_y, predicted_y))"
   ]
  },
  {
   "cell_type": "code",
   "execution_count": 89,
   "id": "328416a8",
   "metadata": {
    "ExecuteTime": {
     "end_time": "2022-02-13T17:08:51.811987Z",
     "start_time": "2022-02-13T17:08:51.772518Z"
    }
   },
   "outputs": [],
   "source": [
    "#Export classification report to markdown to convert to LaTex\n",
    "report = classification_report(expected_y, predicted_y, output_dict=True)\n",
    "acc_rep = pd.DataFrame(report).transpose().round(2)\n",
    "acc_rep.to_markdown('accuracy_report_random_forest.md')"
   ]
  },
  {
   "cell_type": "markdown",
   "id": "7483b56f",
   "metadata": {
    "ExecuteTime": {
     "end_time": "2022-02-11T21:50:01.662691Z",
     "start_time": "2022-02-11T21:50:01.621506Z"
    }
   },
   "source": [
    "### Linear Discriminant Analysis"
   ]
  },
  {
   "cell_type": "code",
   "execution_count": 134,
   "id": "35c95d37",
   "metadata": {
    "ExecuteTime": {
     "end_time": "2022-02-13T18:12:15.609298Z",
     "start_time": "2022-02-13T18:12:15.603985Z"
    }
   },
   "outputs": [],
   "source": [
    "#Initialize LDA model\n",
    "model = LinearDiscriminantAnalysis()"
   ]
  },
  {
   "cell_type": "code",
   "execution_count": 135,
   "id": "fd377e64",
   "metadata": {
    "ExecuteTime": {
     "end_time": "2022-02-13T18:12:16.140506Z",
     "start_time": "2022-02-13T18:12:16.106241Z"
    }
   },
   "outputs": [
    {
     "data": {
      "text/plain": [
       "LinearDiscriminantAnalysis()"
      ]
     },
     "execution_count": 135,
     "metadata": {},
     "output_type": "execute_result"
    }
   ],
   "source": [
    "#Train model\n",
    "model.fit(x_test,y_test)"
   ]
  },
  {
   "cell_type": "code",
   "execution_count": 136,
   "id": "84b6411e",
   "metadata": {
    "ExecuteTime": {
     "end_time": "2022-02-13T18:12:16.818273Z",
     "start_time": "2022-02-13T18:12:16.808222Z"
    }
   },
   "outputs": [],
   "source": [
    "#Fit model on test set\n",
    "expected_y = y_test\n",
    "predicted_y = model.predict(x_test)"
   ]
  },
  {
   "cell_type": "code",
   "execution_count": 137,
   "id": "96c33391",
   "metadata": {
    "ExecuteTime": {
     "end_time": "2022-02-13T18:12:17.442657Z",
     "start_time": "2022-02-13T18:12:17.400622Z"
    }
   },
   "outputs": [
    {
     "name": "stdout",
     "output_type": "stream",
     "text": [
      "              precision    recall  f1-score   support\n",
      "\n",
      "   defensive       0.91      0.88      0.90       695\n",
      "          gk       1.00      1.00      1.00       170\n",
      "      middle       0.78      0.81      0.79       715\n",
      "   offensive       0.76      0.77      0.76       347\n",
      "\n",
      "    accuracy                           0.84      1927\n",
      "   macro avg       0.86      0.86      0.86      1927\n",
      "weighted avg       0.84      0.84      0.84      1927\n",
      "\n",
      "[[613   0  80   2]\n",
      " [  0 170   0   0]\n",
      " [ 56   0 576  83]\n",
      " [  2   0  79 266]]\n"
     ]
    }
   ],
   "source": [
    "#Print classification matrix on test set\n",
    "print(metrics.classification_report(expected_y, predicted_y))\n",
    "print(metrics.confusion_matrix(expected_y, predicted_y))"
   ]
  },
  {
   "cell_type": "code",
   "execution_count": 138,
   "id": "6a827e09",
   "metadata": {
    "ExecuteTime": {
     "end_time": "2022-02-13T18:12:18.292947Z",
     "start_time": "2022-02-13T18:12:18.248506Z"
    }
   },
   "outputs": [],
   "source": [
    "#Export classification matrix to markdown to convert to LaTex\n",
    "report = classification_report(expected_y, predicted_y, output_dict=True)\n",
    "acc_rep = pd.DataFrame(report).transpose().round(2)\n",
    "acc_rep.to_markdown('accuracy_report_da.md')"
   ]
  },
  {
   "cell_type": "markdown",
   "id": "c7c6392f",
   "metadata": {
    "ExecuteTime": {
     "end_time": "2022-02-07T09:45:00.267999Z",
     "start_time": "2022-02-07T09:45:00.260064Z"
    }
   },
   "source": [
    "### K-means clustering"
   ]
  },
  {
   "cell_type": "code",
   "execution_count": 111,
   "id": "414155b8",
   "metadata": {
    "ExecuteTime": {
     "end_time": "2022-02-13T17:55:16.144574Z",
     "start_time": "2022-02-13T17:55:13.595405Z"
    }
   },
   "outputs": [
    {
     "data": {
      "image/png": "[encoded data removed]",
      "text/plain": [
       "<Figure size 864x432 with 1 Axes>"
      ]
     },
     "metadata": {
      "needs_background": "light"
     },
     "output_type": "display_data"
    }
   ],
   "source": [
    "#Create elbow graph\n",
    "wcss = []\n",
    "for i in range(1, 11):\n",
    "    kmeans = KMeans(n_clusters=i, init='k-means++', max_iter=300, n_init=10, random_state=0)\n",
    "    kmeans.fit(x)\n",
    "    wcss.append(kmeans.inertia_)\n",
    "plt.figure(figsize=(12,6))\n",
    "plt.plot(range(1, 11), wcss)\n",
    "#plt.title('Elbow Method')\n",
    "plt.xlabel('Number of clusters')\n",
    "plt.ylabel('WCSS')\n",
    "plt.savefig('Elbow.png')\n",
    "plt.show()\n"
   ]
  },
  {
   "cell_type": "code",
   "execution_count": 112,
   "id": "1f306496",
   "metadata": {
    "ExecuteTime": {
     "end_time": "2022-02-13T17:55:16.330077Z",
     "start_time": "2022-02-13T17:55:16.146492Z"
    }
   },
   "outputs": [],
   "source": [
    "#K-mean cluster and merge the cluster to the original data frame\n",
    "kmeans = KMeans(n_clusters=4, init='k-means++', max_iter=300, n_init=10, random_state=0)\n",
    "pred_y = kmeans.fit_predict(x)\n",
    "df['KCluster']=pred_y.tolist()"
   ]
  },
  {
   "cell_type": "code",
   "execution_count": 113,
   "id": "a639df76",
   "metadata": {
    "ExecuteTime": {
     "end_time": "2022-02-13T17:55:16.345721Z",
     "start_time": "2022-02-13T17:55:16.331585Z"
    }
   },
   "outputs": [],
   "source": [
    "#List of selected variable for radar chart\n",
    "graph_var = ['pace','shooting','dribbling','defending','physic','passing','goalkeeping_positioning']"
   ]
  },
  {
   "cell_type": "code",
   "execution_count": 114,
   "id": "4acab918",
   "metadata": {
    "ExecuteTime": {
     "end_time": "2022-02-13T17:55:16.453402Z",
     "start_time": "2022-02-13T17:55:16.350426Z"
    }
   },
   "outputs": [
    {
     "data": {
      "application/vnd.plotly.v1+json": {
       "config": {
        "plotlyServerURL": "https://plot.ly"
       },
       "data": [
        {
         "hovertemplate": "KCluster=0<br>value=%{r}<br>variable=%{theta}<extra></extra>",
         "legendgroup": "0",
         "line": {
          "color": "#636efa",
          "dash": "solid"
         },
         "marker": {
          "symbol": "circle"
         },
         "mode": "lines",
         "name": "0",
         "r": [
          62.87206165703275,
          39.33217726396917,
          52.75992292870906,
          56.1140655105973,
          64.55722543352601,
          70.74605009633912,
          10.473217726396918,
          62.87206165703275
         ],
         "showlegend": true,
         "subplot": "polar",
         "theta": [
          "pace",
          "shooting",
          "passing",
          "dribbling",
          "defending",
          "physic",
          "goalkeeping_positioning",
          "pace"
         ],
         "type": "scatterpolar"
        },
        {
         "hovertemplate": "KCluster=1<br>value=%{r}<br>variable=%{theta}<extra></extra>",
         "legendgroup": "1",
         "line": {
          "color": "#EF553B",
          "dash": "solid"
         },
         "marker": {
          "symbol": "circle"
         },
         "mode": "lines",
         "name": "1",
         "r": [
          0,
          0,
          0,
          0,
          0,
          0,
          68.78744650499287,
          0
         ],
         "showlegend": true,
         "subplot": "polar",
         "theta": [
          "pace",
          "shooting",
          "passing",
          "dribbling",
          "defending",
          "physic",
          "goalkeeping_positioning",
          "pace"
         ],
         "type": "scatterpolar"
        },
        {
         "hovertemplate": "KCluster=2<br>value=%{r}<br>variable=%{theta}<extra></extra>",
         "legendgroup": "2",
         "line": {
          "color": "#00cc96",
          "dash": "solid"
         },
         "marker": {
          "symbol": "circle"
         },
         "mode": "lines",
         "name": "2",
         "r": [
          73.72326755392382,
          63.18586507572281,
          59.51078476365305,
          67.40201927489674,
          36.9013308857274,
          62.485543827443784,
          10.438274437815512,
          73.72326755392382
         ],
         "showlegend": true,
         "subplot": "polar",
         "theta": [
          "pace",
          "shooting",
          "passing",
          "dribbling",
          "defending",
          "physic",
          "goalkeeping_positioning",
          "pace"
         ],
         "type": "scatterpolar"
        },
        {
         "hovertemplate": "KCluster=3<br>value=%{r}<br>variable=%{theta}<extra></extra>",
         "legendgroup": "3",
         "line": {
          "color": "#ab63fa",
          "dash": "solid"
         },
         "marker": {
          "symbol": "circle"
         },
         "mode": "lines",
         "name": "3",
         "r": [
          70.37606454504706,
          63.30927835051546,
          69.35096369341103,
          71.88077095472882,
          63.176602420439266,
          71.15329448677723,
          10.518153294486778,
          70.37606454504706
         ],
         "showlegend": true,
         "subplot": "polar",
         "theta": [
          "pace",
          "shooting",
          "passing",
          "dribbling",
          "defending",
          "physic",
          "goalkeeping_positioning",
          "pace"
         ],
         "type": "scatterpolar"
        }
       ],
       "layout": {
        "height": 500,
        "legend": {
         "title": {
          "text": "KCluster"
         },
         "tracegroupgap": 0
        },
        "margin": {
         "t": 60
        },
        "polar": {
         "angularaxis": {
          "direction": "clockwise",
          "rotation": 90
         },
         "domain": {
          "x": [
           0,
           1
          ],
          "y": [
           0,
           1
          ]
         }
        },
        "template": {
         "data": {
          "bar": [
           {
            "error_x": {
             "color": "#2a3f5f"
            },
            "error_y": {
             "color": "#2a3f5f"
            },
            "marker": {
             "line": {
              "color": "#E5ECF6",
              "width": 0.5
             },
             "pattern": {
              "fillmode": "overlay",
              "size": 10,
              "solidity": 0.2
             }
            },
            "type": "bar"
           }
          ],
          "barpolar": [
           {
            "marker": {
             "line": {
              "color": "#E5ECF6",
              "width": 0.5
             },
             "pattern": {
              "fillmode": "overlay",
              "size": 10,
              "solidity": 0.2
             }
            },
            "type": "barpolar"
           }
          ],
          "carpet": [
           {
            "aaxis": {
             "endlinecolor": "#2a3f5f",
             "gridcolor": "white",
             "linecolor": "white",
             "minorgridcolor": "white",
             "startlinecolor": "#2a3f5f"
            },
            "baxis": {
             "endlinecolor": "#2a3f5f",
             "gridcolor": "white",
             "linecolor": "white",
             "minorgridcolor": "white",
             "startlinecolor": "#2a3f5f"
            },
            "type": "carpet"
           }
          ],
          "choropleth": [
           {
            "colorbar": {
             "outlinewidth": 0,
             "ticks": ""
            },
            "type": "choropleth"
           }
          ],
          "contour": [
           {
            "colorbar": {
             "outlinewidth": 0,
             "ticks": ""
            },
            "colorscale": [
             [
              0,
              "#0d0887"
             ],
             [
              0.1111111111111111,
              "#46039f"
             ],
             [
              0.2222222222222222,
              "#7201a8"
             ],
             [
              0.3333333333333333,
              "#9c179e"
             ],
             [
              0.4444444444444444,
              "#bd3786"
             ],
             [
              0.5555555555555556,
              "#d8576b"
             ],
             [
              0.6666666666666666,
              "#ed7953"
             ],
             [
              0.7777777777777778,
              "#fb9f3a"
             ],
             [
              0.8888888888888888,
              "#fdca26"
             ],
             [
              1,
              "#f0f921"
             ]
            ],
            "type": "contour"
           }
          ],
          "contourcarpet": [
           {
            "colorbar": {
             "outlinewidth": 0,
             "ticks": ""
            },
            "type": "contourcarpet"
           }
          ],
          "heatmap": [
           {
            "colorbar": {
             "outlinewidth": 0,
             "ticks": ""
            },
            "colorscale": [
             [
              0,
              "#0d0887"
             ],
             [
              0.1111111111111111,
              "#46039f"
             ],
             [
              0.2222222222222222,
              "#7201a8"
             ],
             [
              0.3333333333333333,
              "#9c179e"
             ],
             [
              0.4444444444444444,
              "#bd3786"
             ],
             [
              0.5555555555555556,
              "#d8576b"
             ],
             [
              0.6666666666666666,
              "#ed7953"
             ],
             [
              0.7777777777777778,
              "#fb9f3a"
             ],
             [
              0.8888888888888888,
              "#fdca26"
             ],
             [
              1,
              "#f0f921"
             ]
            ],
            "type": "heatmap"
           }
          ],
          "heatmapgl": [
           {
            "colorbar": {
             "outlinewidth": 0,
             "ticks": ""
            },
            "colorscale": [
             [
              0,
              "#0d0887"
             ],
             [
              0.1111111111111111,
              "#46039f"
             ],
             [
              0.2222222222222222,
              "#7201a8"
             ],
             [
              0.3333333333333333,
              "#9c179e"
             ],
             [
              0.4444444444444444,
              "#bd3786"
             ],
             [
              0.5555555555555556,
              "#d8576b"
             ],
             [
              0.6666666666666666,
              "#ed7953"
             ],
             [
              0.7777777777777778,
              "#fb9f3a"
             ],
             [
              0.8888888888888888,
              "#fdca26"
             ],
             [
              1,
              "#f0f921"
             ]
            ],
            "type": "heatmapgl"
           }
          ],
          "histogram": [
           {
            "marker": {
             "pattern": {
              "fillmode": "overlay",
              "size": 10,
              "solidity": 0.2
             }
            },
            "type": "histogram"
           }
          ],
          "histogram2d": [
           {
            "colorbar": {
             "outlinewidth": 0,
             "ticks": ""
            },
            "colorscale": [
             [
              0,
              "#0d0887"
             ],
             [
              0.1111111111111111,
              "#46039f"
             ],
             [
              0.2222222222222222,
              "#7201a8"
             ],
             [
              0.3333333333333333,
              "#9c179e"
             ],
             [
              0.4444444444444444,
              "#bd3786"
             ],
             [
              0.5555555555555556,
              "#d8576b"
             ],
             [
              0.6666666666666666,
              "#ed7953"
             ],
             [
              0.7777777777777778,
              "#fb9f3a"
             ],
             [
              0.8888888888888888,
              "#fdca26"
             ],
             [
              1,
              "#f0f921"
             ]
            ],
            "type": "histogram2d"
           }
          ],
          "histogram2dcontour": [
           {
            "colorbar": {
             "outlinewidth": 0,
             "ticks": ""
            },
            "colorscale": [
             [
              0,
              "#0d0887"
             ],
             [
              0.1111111111111111,
              "#46039f"
             ],
             [
              0.2222222222222222,
              "#7201a8"
             ],
             [
              0.3333333333333333,
              "#9c179e"
             ],
             [
              0.4444444444444444,
              "#bd3786"
             ],
             [
              0.5555555555555556,
              "#d8576b"
             ],
             [
              0.6666666666666666,
              "#ed7953"
             ],
             [
              0.7777777777777778,
              "#fb9f3a"
             ],
             [
              0.8888888888888888,
              "#fdca26"
             ],
             [
              1,
              "#f0f921"
             ]
            ],
            "type": "histogram2dcontour"
           }
          ],
          "mesh3d": [
           {
            "colorbar": {
             "outlinewidth": 0,
             "ticks": ""
            },
            "type": "mesh3d"
           }
          ],
          "parcoords": [
           {
            "line": {
             "colorbar": {
              "outlinewidth": 0,
              "ticks": ""
             }
            },
            "type": "parcoords"
           }
          ],
          "pie": [
           {
            "automargin": true,
            "type": "pie"
           }
          ],
          "scatter": [
           {
            "marker": {
             "colorbar": {
              "outlinewidth": 0,
              "ticks": ""
             }
            },
            "type": "scatter"
           }
          ],
          "scatter3d": [
           {
            "line": {
             "colorbar": {
              "outlinewidth": 0,
              "ticks": ""
             }
            },
            "marker": {
             "colorbar": {
              "outlinewidth": 0,
              "ticks": ""
             }
            },
            "type": "scatter3d"
           }
          ],
          "scattercarpet": [
           {
            "marker": {
             "colorbar": {
              "outlinewidth": 0,
              "ticks": ""
             }
            },
            "type": "scattercarpet"
           }
          ],
          "scattergeo": [
           {
            "marker": {
             "colorbar": {
              "outlinewidth": 0,
              "ticks": ""
             }
            },
            "type": "scattergeo"
           }
          ],
          "scattergl": [
           {
            "marker": {
             "colorbar": {
              "outlinewidth": 0,
              "ticks": ""
             }
            },
            "type": "scattergl"
           }
          ],
          "scattermapbox": [
           {
            "marker": {
             "colorbar": {
              "outlinewidth": 0,
              "ticks": ""
             }
            },
            "type": "scattermapbox"
           }
          ],
          "scatterpolar": [
           {
            "marker": {
             "colorbar": {
              "outlinewidth": 0,
              "ticks": ""
             }
            },
            "type": "scatterpolar"
           }
          ],
          "scatterpolargl": [
           {
            "marker": {
             "colorbar": {
              "outlinewidth": 0,
              "ticks": ""
             }
            },
            "type": "scatterpolargl"
           }
          ],
          "scatterternary": [
           {
            "marker": {
             "colorbar": {
              "outlinewidth": 0,
              "ticks": ""
             }
            },
            "type": "scatterternary"
           }
          ],
          "surface": [
           {
            "colorbar": {
             "outlinewidth": 0,
             "ticks": ""
            },
            "colorscale": [
             [
              0,
              "#0d0887"
             ],
             [
              0.1111111111111111,
              "#46039f"
             ],
             [
              0.2222222222222222,
              "#7201a8"
             ],
             [
              0.3333333333333333,
              "#9c179e"
             ],
             [
              0.4444444444444444,
              "#bd3786"
             ],
             [
              0.5555555555555556,
              "#d8576b"
             ],
             [
              0.6666666666666666,
              "#ed7953"
             ],
             [
              0.7777777777777778,
              "#fb9f3a"
             ],
             [
              0.8888888888888888,
              "#fdca26"
             ],
             [
              1,
              "#f0f921"
             ]
            ],
            "type": "surface"
           }
          ],
          "table": [
           {
            "cells": {
             "fill": {
              "color": "#EBF0F8"
             },
             "line": {
              "color": "white"
             }
            },
            "header": {
             "fill": {
              "color": "#C8D4E3"
             },
             "line": {
              "color": "white"
             }
            },
            "type": "table"
           }
          ]
         },
         "layout": {
          "annotationdefaults": {
           "arrowcolor": "#2a3f5f",
           "arrowhead": 0,
           "arrowwidth": 1
          },
          "autotypenumbers": "strict",
          "coloraxis": {
           "colorbar": {
            "outlinewidth": 0,
            "ticks": ""
           }
          },
          "colorscale": {
           "diverging": [
            [
             0,
             "#8e0152"
            ],
            [
             0.1,
             "#c51b7d"
            ],
            [
             0.2,
             "#de77ae"
            ],
            [
             0.3,
             "#f1b6da"
            ],
            [
             0.4,
             "#fde0ef"
            ],
            [
             0.5,
             "#f7f7f7"
            ],
            [
             0.6,
             "#e6f5d0"
            ],
            [
             0.7,
             "#b8e186"
            ],
            [
             0.8,
             "#7fbc41"
            ],
            [
             0.9,
             "#4d9221"
            ],
            [
             1,
             "#276419"
            ]
           ],
           "sequential": [
            [
             0,
             "#0d0887"
            ],
            [
             0.1111111111111111,
             "#46039f"
            ],
            [
             0.2222222222222222,
             "#7201a8"
            ],
            [
             0.3333333333333333,
             "#9c179e"
            ],
            [
             0.4444444444444444,
             "#bd3786"
            ],
            [
             0.5555555555555556,
             "#d8576b"
            ],
            [
             0.6666666666666666,
             "#ed7953"
            ],
            [
             0.7777777777777778,
             "#fb9f3a"
            ],
            [
             0.8888888888888888,
             "#fdca26"
            ],
            [
             1,
             "#f0f921"
            ]
           ],
           "sequentialminus": [
            [
             0,
             "#0d0887"
            ],
            [
             0.1111111111111111,
             "#46039f"
            ],
            [
             0.2222222222222222,
             "#7201a8"
            ],
            [
             0.3333333333333333,
             "#9c179e"
            ],
            [
             0.4444444444444444,
             "#bd3786"
            ],
            [
             0.5555555555555556,
             "#d8576b"
            ],
            [
             0.6666666666666666,
             "#ed7953"
            ],
            [
             0.7777777777777778,
             "#fb9f3a"
            ],
            [
             0.8888888888888888,
             "#fdca26"
            ],
            [
             1,
             "#f0f921"
            ]
           ]
          },
          "colorway": [
           "#636efa",
           "#EF553B",
           "#00cc96",
           "#ab63fa",
           "#FFA15A",
           "#19d3f3",
           "#FF6692",
           "#B6E880",
           "#FF97FF",
           "#FECB52"
          ],
          "font": {
           "color": "#2a3f5f"
          },
          "geo": {
           "bgcolor": "white",
           "lakecolor": "white",
           "landcolor": "#E5ECF6",
           "showlakes": true,
           "showland": true,
           "subunitcolor": "white"
          },
          "hoverlabel": {
           "align": "left"
          },
          "hovermode": "closest",
          "mapbox": {
           "style": "light"
          },
          "paper_bgcolor": "white",
          "plot_bgcolor": "#E5ECF6",
          "polar": {
           "angularaxis": {
            "gridcolor": "white",
            "linecolor": "white",
            "ticks": ""
           },
           "bgcolor": "#E5ECF6",
           "radialaxis": {
            "gridcolor": "white",
            "linecolor": "white",
            "ticks": ""
           }
          },
          "scene": {
           "xaxis": {
            "backgroundcolor": "#E5ECF6",
            "gridcolor": "white",
            "gridwidth": 2,
            "linecolor": "white",
            "showbackground": true,
            "ticks": "",
            "zerolinecolor": "white"
           },
           "yaxis": {
            "backgroundcolor": "#E5ECF6",
            "gridcolor": "white",
            "gridwidth": 2,
            "linecolor": "white",
            "showbackground": true,
            "ticks": "",
            "zerolinecolor": "white"
           },
           "zaxis": {
            "backgroundcolor": "#E5ECF6",
            "gridcolor": "white",
            "gridwidth": 2,
            "linecolor": "white",
            "showbackground": true,
            "ticks": "",
            "zerolinecolor": "white"
           }
          },
          "shapedefaults": {
           "line": {
            "color": "#2a3f5f"
           }
          },
          "ternary": {
           "aaxis": {
            "gridcolor": "white",
            "linecolor": "white",
            "ticks": ""
           },
           "baxis": {
            "gridcolor": "white",
            "linecolor": "white",
            "ticks": ""
           },
           "bgcolor": "#E5ECF6",
           "caxis": {
            "gridcolor": "white",
            "linecolor": "white",
            "ticks": ""
           }
          },
          "title": {
           "x": 0.05
          },
          "xaxis": {
           "automargin": true,
           "gridcolor": "white",
           "linecolor": "white",
           "ticks": "",
           "title": {
            "standoff": 15
           },
           "zerolinecolor": "white",
           "zerolinewidth": 2
          },
          "yaxis": {
           "automargin": true,
           "gridcolor": "white",
           "linecolor": "white",
           "ticks": "",
           "title": {
            "standoff": 15
           },
           "zerolinecolor": "white",
           "zerolinewidth": 2
          }
         }
        },
        "width": 700
       }
      },
      "text/html": [
       "<div>                            <div id=\"4a4599a7-1d83-4aa2-a85f-27ff84069723\" class=\"plotly-graph-div\" style=\"height:500px; width:700px;\"></div>            <script type=\"text/javascript\">                require([\"plotly\"], function(Plotly) {                    window.PLOTLYENV=window.PLOTLYENV || {};                                    if (document.getElementById(\"4a4599a7-1d83-4aa2-a85f-27ff84069723\")) {                    Plotly.newPlot(                        \"4a4599a7-1d83-4aa2-a85f-27ff84069723\",                        [{\"hovertemplate\":\"KCluster=0<br>value=%{r}<br>variable=%{theta}<extra></extra>\",\"legendgroup\":\"0\",\"line\":{\"color\":\"#636efa\",\"dash\":\"solid\"},\"marker\":{\"symbol\":\"circle\"},\"mode\":\"lines\",\"name\":\"0\",\"r\":[62.87206165703275,39.33217726396917,52.75992292870906,56.1140655105973,64.55722543352601,70.74605009633912,10.473217726396918,62.87206165703275],\"showlegend\":true,\"subplot\":\"polar\",\"theta\":[\"pace\",\"shooting\",\"passing\",\"dribbling\",\"defending\",\"physic\",\"goalkeeping_positioning\",\"pace\"],\"type\":\"scatterpolar\"},{\"hovertemplate\":\"KCluster=1<br>value=%{r}<br>variable=%{theta}<extra></extra>\",\"legendgroup\":\"1\",\"line\":{\"color\":\"#EF553B\",\"dash\":\"solid\"},\"marker\":{\"symbol\":\"circle\"},\"mode\":\"lines\",\"name\":\"1\",\"r\":[0.0,0.0,0.0,0.0,0.0,0.0,68.78744650499287,0.0],\"showlegend\":true,\"subplot\":\"polar\",\"theta\":[\"pace\",\"shooting\",\"passing\",\"dribbling\",\"defending\",\"physic\",\"goalkeeping_positioning\",\"pace\"],\"type\":\"scatterpolar\"},{\"hovertemplate\":\"KCluster=2<br>value=%{r}<br>variable=%{theta}<extra></extra>\",\"legendgroup\":\"2\",\"line\":{\"color\":\"#00cc96\",\"dash\":\"solid\"},\"marker\":{\"symbol\":\"circle\"},\"mode\":\"lines\",\"name\":\"2\",\"r\":[73.72326755392382,63.18586507572281,59.51078476365305,67.40201927489674,36.9013308857274,62.485543827443784,10.438274437815512,73.72326755392382],\"showlegend\":true,\"subplot\":\"polar\",\"theta\":[\"pace\",\"shooting\",\"passing\",\"dribbling\",\"defending\",\"physic\",\"goalkeeping_positioning\",\"pace\"],\"type\":\"scatterpolar\"},{\"hovertemplate\":\"KCluster=3<br>value=%{r}<br>variable=%{theta}<extra></extra>\",\"legendgroup\":\"3\",\"line\":{\"color\":\"#ab63fa\",\"dash\":\"solid\"},\"marker\":{\"symbol\":\"circle\"},\"mode\":\"lines\",\"name\":\"3\",\"r\":[70.37606454504706,63.30927835051546,69.35096369341103,71.88077095472882,63.176602420439266,71.15329448677723,10.518153294486778,70.37606454504706],\"showlegend\":true,\"subplot\":\"polar\",\"theta\":[\"pace\",\"shooting\",\"passing\",\"dribbling\",\"defending\",\"physic\",\"goalkeeping_positioning\",\"pace\"],\"type\":\"scatterpolar\"}],                        {\"template\":{\"data\":{\"bar\":[{\"error_x\":{\"color\":\"#2a3f5f\"},\"error_y\":{\"color\":\"#2a3f5f\"},\"marker\":{\"line\":{\"color\":\"#E5ECF6\",\"width\":0.5},\"pattern\":{\"fillmode\":\"overlay\",\"size\":10,\"solidity\":0.2}},\"type\":\"bar\"}],\"barpolar\":[{\"marker\":{\"line\":{\"color\":\"#E5ECF6\",\"width\":0.5},\"pattern\":{\"fillmode\":\"overlay\",\"size\":10,\"solidity\":0.2}},\"type\":\"barpolar\"}],\"carpet\":[{\"aaxis\":{\"endlinecolor\":\"#2a3f5f\",\"gridcolor\":\"white\",\"linecolor\":\"white\",\"minorgridcolor\":\"white\",\"startlinecolor\":\"#2a3f5f\"},\"baxis\":{\"endlinecolor\":\"#2a3f5f\",\"gridcolor\":\"white\",\"linecolor\":\"white\",\"minorgridcolor\":\"white\",\"startlinecolor\":\"#2a3f5f\"},\"type\":\"carpet\"}],\"choropleth\":[{\"colorbar\":{\"outlinewidth\":0,\"ticks\":\"\"},\"type\":\"choropleth\"}],\"contour\":[{\"colorbar\":{\"outlinewidth\":0,\"ticks\":\"\"},\"colorscale\":[[0.0,\"#0d0887\"],[0.1111111111111111,\"#46039f\"],[0.2222222222222222,\"#7201a8\"],[0.3333333333333333,\"#9c179e\"],[0.4444444444444444,\"#bd3786\"],[0.5555555555555556,\"#d8576b\"],[0.6666666666666666,\"#ed7953\"],[0.7777777777777778,\"#fb9f3a\"],[0.8888888888888888,\"#fdca26\"],[1.0,\"#f0f921\"]],\"type\":\"contour\"}],\"contourcarpet\":[{\"colorbar\":{\"outlinewidth\":0,\"ticks\":\"\"},\"type\":\"contourcarpet\"}],\"heatmap\":[{\"colorbar\":{\"outlinewidth\":0,\"ticks\":\"\"},\"colorscale\":[[0.0,\"#0d0887\"],[0.1111111111111111,\"#46039f\"],[0.2222222222222222,\"#7201a8\"],[0.3333333333333333,\"#9c179e\"],[0.4444444444444444,\"#bd3786\"],[0.5555555555555556,\"#d8576b\"],[0.6666666666666666,\"#ed7953\"],[0.7777777777777778,\"#fb9f3a\"],[0.8888888888888888,\"#fdca26\"],[1.0,\"#f0f921\"]],\"type\":\"heatmap\"}],\"heatmapgl\":[{\"colorbar\":{\"outlinewidth\":0,\"ticks\":\"\"},\"colorscale\":[[0.0,\"#0d0887\"],[0.1111111111111111,\"#46039f\"],[0.2222222222222222,\"#7201a8\"],[0.3333333333333333,\"#9c179e\"],[0.4444444444444444,\"#bd3786\"],[0.5555555555555556,\"#d8576b\"],[0.6666666666666666,\"#ed7953\"],[0.7777777777777778,\"#fb9f3a\"],[0.8888888888888888,\"#fdca26\"],[1.0,\"#f0f921\"]],\"type\":\"heatmapgl\"}],\"histogram\":[{\"marker\":{\"pattern\":{\"fillmode\":\"overlay\",\"size\":10,\"solidity\":0.2}},\"type\":\"histogram\"}],\"histogram2d\":[{\"colorbar\":{\"outlinewidth\":0,\"ticks\":\"\"},\"colorscale\":[[0.0,\"#0d0887\"],[0.1111111111111111,\"#46039f\"],[0.2222222222222222,\"#7201a8\"],[0.3333333333333333,\"#9c179e\"],[0.4444444444444444,\"#bd3786\"],[0.5555555555555556,\"#d8576b\"],[0.6666666666666666,\"#ed7953\"],[0.7777777777777778,\"#fb9f3a\"],[0.8888888888888888,\"#fdca26\"],[1.0,\"#f0f921\"]],\"type\":\"histogram2d\"}],\"histogram2dcontour\":[{\"colorbar\":{\"outlinewidth\":0,\"ticks\":\"\"},\"colorscale\":[[0.0,\"#0d0887\"],[0.1111111111111111,\"#46039f\"],[0.2222222222222222,\"#7201a8\"],[0.3333333333333333,\"#9c179e\"],[0.4444444444444444,\"#bd3786\"],[0.5555555555555556,\"#d8576b\"],[0.6666666666666666,\"#ed7953\"],[0.7777777777777778,\"#fb9f3a\"],[0.8888888888888888,\"#fdca26\"],[1.0,\"#f0f921\"]],\"type\":\"histogram2dcontour\"}],\"mesh3d\":[{\"colorbar\":{\"outlinewidth\":0,\"ticks\":\"\"},\"type\":\"mesh3d\"}],\"parcoords\":[{\"line\":{\"colorbar\":{\"outlinewidth\":0,\"ticks\":\"\"}},\"type\":\"parcoords\"}],\"pie\":[{\"automargin\":true,\"type\":\"pie\"}],\"scatter\":[{\"marker\":{\"colorbar\":{\"outlinewidth\":0,\"ticks\":\"\"}},\"type\":\"scatter\"}],\"scatter3d\":[{\"line\":{\"colorbar\":{\"outlinewidth\":0,\"ticks\":\"\"}},\"marker\":{\"colorbar\":{\"outlinewidth\":0,\"ticks\":\"\"}},\"type\":\"scatter3d\"}],\"scattercarpet\":[{\"marker\":{\"colorbar\":{\"outlinewidth\":0,\"ticks\":\"\"}},\"type\":\"scattercarpet\"}],\"scattergeo\":[{\"marker\":{\"colorbar\":{\"outlinewidth\":0,\"ticks\":\"\"}},\"type\":\"scattergeo\"}],\"scattergl\":[{\"marker\":{\"colorbar\":{\"outlinewidth\":0,\"ticks\":\"\"}},\"type\":\"scattergl\"}],\"scattermapbox\":[{\"marker\":{\"colorbar\":{\"outlinewidth\":0,\"ticks\":\"\"}},\"type\":\"scattermapbox\"}],\"scatterpolar\":[{\"marker\":{\"colorbar\":{\"outlinewidth\":0,\"ticks\":\"\"}},\"type\":\"scatterpolar\"}],\"scatterpolargl\":[{\"marker\":{\"colorbar\":{\"outlinewidth\":0,\"ticks\":\"\"}},\"type\":\"scatterpolargl\"}],\"scatterternary\":[{\"marker\":{\"colorbar\":{\"outlinewidth\":0,\"ticks\":\"\"}},\"type\":\"scatterternary\"}],\"surface\":[{\"colorbar\":{\"outlinewidth\":0,\"ticks\":\"\"},\"colorscale\":[[0.0,\"#0d0887\"],[0.1111111111111111,\"#46039f\"],[0.2222222222222222,\"#7201a8\"],[0.3333333333333333,\"#9c179e\"],[0.4444444444444444,\"#bd3786\"],[0.5555555555555556,\"#d8576b\"],[0.6666666666666666,\"#ed7953\"],[0.7777777777777778,\"#fb9f3a\"],[0.8888888888888888,\"#fdca26\"],[1.0,\"#f0f921\"]],\"type\":\"surface\"}],\"table\":[{\"cells\":{\"fill\":{\"color\":\"#EBF0F8\"},\"line\":{\"color\":\"white\"}},\"header\":{\"fill\":{\"color\":\"#C8D4E3\"},\"line\":{\"color\":\"white\"}},\"type\":\"table\"}]},\"layout\":{\"annotationdefaults\":{\"arrowcolor\":\"#2a3f5f\",\"arrowhead\":0,\"arrowwidth\":1},\"autotypenumbers\":\"strict\",\"coloraxis\":{\"colorbar\":{\"outlinewidth\":0,\"ticks\":\"\"}},\"colorscale\":{\"diverging\":[[0,\"#8e0152\"],[0.1,\"#c51b7d\"],[0.2,\"#de77ae\"],[0.3,\"#f1b6da\"],[0.4,\"#fde0ef\"],[0.5,\"#f7f7f7\"],[0.6,\"#e6f5d0\"],[0.7,\"#b8e186\"],[0.8,\"#7fbc41\"],[0.9,\"#4d9221\"],[1,\"#276419\"]],\"sequential\":[[0.0,\"#0d0887\"],[0.1111111111111111,\"#46039f\"],[0.2222222222222222,\"#7201a8\"],[0.3333333333333333,\"#9c179e\"],[0.4444444444444444,\"#bd3786\"],[0.5555555555555556,\"#d8576b\"],[0.6666666666666666,\"#ed7953\"],[0.7777777777777778,\"#fb9f3a\"],[0.8888888888888888,\"#fdca26\"],[1.0,\"#f0f921\"]],\"sequentialminus\":[[0.0,\"#0d0887\"],[0.1111111111111111,\"#46039f\"],[0.2222222222222222,\"#7201a8\"],[0.3333333333333333,\"#9c179e\"],[0.4444444444444444,\"#bd3786\"],[0.5555555555555556,\"#d8576b\"],[0.6666666666666666,\"#ed7953\"],[0.7777777777777778,\"#fb9f3a\"],[0.8888888888888888,\"#fdca26\"],[1.0,\"#f0f921\"]]},\"colorway\":[\"#636efa\",\"#EF553B\",\"#00cc96\",\"#ab63fa\",\"#FFA15A\",\"#19d3f3\",\"#FF6692\",\"#B6E880\",\"#FF97FF\",\"#FECB52\"],\"font\":{\"color\":\"#2a3f5f\"},\"geo\":{\"bgcolor\":\"white\",\"lakecolor\":\"white\",\"landcolor\":\"#E5ECF6\",\"showlakes\":true,\"showland\":true,\"subunitcolor\":\"white\"},\"hoverlabel\":{\"align\":\"left\"},\"hovermode\":\"closest\",\"mapbox\":{\"style\":\"light\"},\"paper_bgcolor\":\"white\",\"plot_bgcolor\":\"#E5ECF6\",\"polar\":{\"angularaxis\":{\"gridcolor\":\"white\",\"linecolor\":\"white\",\"ticks\":\"\"},\"bgcolor\":\"#E5ECF6\",\"radialaxis\":{\"gridcolor\":\"white\",\"linecolor\":\"white\",\"ticks\":\"\"}},\"scene\":{\"xaxis\":{\"backgroundcolor\":\"#E5ECF6\",\"gridcolor\":\"white\",\"gridwidth\":2,\"linecolor\":\"white\",\"showbackground\":true,\"ticks\":\"\",\"zerolinecolor\":\"white\"},\"yaxis\":{\"backgroundcolor\":\"#E5ECF6\",\"gridcolor\":\"white\",\"gridwidth\":2,\"linecolor\":\"white\",\"showbackground\":true,\"ticks\":\"\",\"zerolinecolor\":\"white\"},\"zaxis\":{\"backgroundcolor\":\"#E5ECF6\",\"gridcolor\":\"white\",\"gridwidth\":2,\"linecolor\":\"white\",\"showbackground\":true,\"ticks\":\"\",\"zerolinecolor\":\"white\"}},\"shapedefaults\":{\"line\":{\"color\":\"#2a3f5f\"}},\"ternary\":{\"aaxis\":{\"gridcolor\":\"white\",\"linecolor\":\"white\",\"ticks\":\"\"},\"baxis\":{\"gridcolor\":\"white\",\"linecolor\":\"white\",\"ticks\":\"\"},\"bgcolor\":\"#E5ECF6\",\"caxis\":{\"gridcolor\":\"white\",\"linecolor\":\"white\",\"ticks\":\"\"}},\"title\":{\"x\":0.05},\"xaxis\":{\"automargin\":true,\"gridcolor\":\"white\",\"linecolor\":\"white\",\"ticks\":\"\",\"title\":{\"standoff\":15},\"zerolinecolor\":\"white\",\"zerolinewidth\":2},\"yaxis\":{\"automargin\":true,\"gridcolor\":\"white\",\"linecolor\":\"white\",\"ticks\":\"\",\"title\":{\"standoff\":15},\"zerolinecolor\":\"white\",\"zerolinewidth\":2}}},\"polar\":{\"domain\":{\"x\":[0.0,1.0],\"y\":[0.0,1.0]},\"angularaxis\":{\"direction\":\"clockwise\",\"rotation\":90}},\"legend\":{\"title\":{\"text\":\"KCluster\"},\"tracegroupgap\":0},\"margin\":{\"t\":60},\"height\":500,\"width\":700},                        {\"responsive\": true}                    ).then(function(){\n",
       "                            \n",
       "var gd = document.getElementById('4a4599a7-1d83-4aa2-a85f-27ff84069723');\n",
       "var x = new MutationObserver(function (mutations, observer) {{\n",
       "        var display = window.getComputedStyle(gd).display;\n",
       "        if (!display || display === 'none') {{\n",
       "            console.log([gd, 'removed!']);\n",
       "            Plotly.purge(gd);\n",
       "            observer.disconnect();\n",
       "        }}\n",
       "}});\n",
       "\n",
       "// Listen for the removal of the full notebook cells\n",
       "var notebookContainer = gd.closest('#notebook-container');\n",
       "if (notebookContainer) {{\n",
       "    x.observe(notebookContainer, {childList: true});\n",
       "}}\n",
       "\n",
       "// Listen for the clearing of the current output cell\n",
       "var outputEl = gd.closest('.output');\n",
       "if (outputEl) {{\n",
       "    x.observe(outputEl, {childList: true});\n",
       "}}\n",
       "\n",
       "                        })                };                });            </script>        </div>"
      ]
     },
     "metadata": {},
     "output_type": "display_data"
    }
   ],
   "source": [
    "#Create radar chart of selected variable\n",
    "polar=df.groupby(\"KCluster\").mean().reset_index()\n",
    "polar=pd.melt(polar,id_vars=[\"KCluster\"])\n",
    "polar=polar[polar['variable'].isin(graph_var)]\n",
    "fig4 = px.line_polar(polar, r=\"value\", theta=\"variable\", color=\"KCluster\", line_close=True,height=500,width=700)\n",
    "fig4.show()"
   ]
  },
  {
   "cell_type": "code",
   "execution_count": 115,
   "id": "5754aefd",
   "metadata": {
    "ExecuteTime": {
     "end_time": "2022-02-13T17:55:20.562256Z",
     "start_time": "2022-02-13T17:55:20.524699Z"
    }
   },
   "outputs": [],
   "source": [
    "#Export summary statistics of selected variables by k-means cluster\n",
    "k_char = df[['KCluster','pace','shooting','dribbling','defending','physic','passing','value_eur']].groupby('KCluster').agg('mean').round(0).reset_index()\n",
    "k_count = pd.DataFrame(df['KCluster'].value_counts()).reset_index()\n",
    "k_count.columns = ['KCluster','Number of Player']\n",
    "k_char = k_char.merge(k_count,on='KCluster',how='left')\n",
    "k_char = k_char.astype('int')\n",
    "k_char.columns = ['KCluster', 'Pace', 'Shooting', 'Dribbling', 'Defending', 'Physic',\n",
    "       'Passing', 'Value (Eur)', 'Number of Player']\n",
    "k_char['Value (Eur)'] = k_char['Value (Eur)'].astype('int').apply(lambda x : \"{:,}\".format(x))\n",
    "k_char.to_markdown('KChar.md',index=False)"
   ]
  },
  {
   "cell_type": "code",
   "execution_count": 18,
   "id": "7c421bd2",
   "metadata": {
    "ExecuteTime": {
     "end_time": "2022-02-13T00:15:02.992433Z",
     "start_time": "2022-02-13T00:15:02.642069Z"
    }
   },
   "outputs": [
    {
     "data": {
      "image/png": "[encoded data removed]",
      "text/plain": [
       "<Figure size 792x576 with 1 Axes>"
      ]
     },
     "metadata": {
      "needs_background": "light"
     },
     "output_type": "display_data"
    }
   ],
   "source": [
    "#Create graph of number of positions in each cluster\n",
    "pos_by_k = df[['position','KCluster','APCluster']].groupby(['KCluster','position']).agg('count').reset_index()\n",
    "pos_by_k.columns = ['KCluster','Position','Number of Players']\n",
    "pos_by_k.to_markdown('pos_k.md',index=False)\n",
    "plot_by_k = pos_by_k.pivot('KCluster','Position','Number of Players').fillna(0)\n",
    "plot_by_k.plot(kind='bar',\n",
    "        stacked=False,\n",
    "        title='',\n",
    "               figsize = (11,8),colormap='viridis')\n",
    "plt.savefig('K_Num.png')"
   ]
  },
  {
   "cell_type": "markdown",
   "id": "a469919b",
   "metadata": {
    "ExecuteTime": {
     "end_time": "2022-02-07T09:45:13.093487Z",
     "start_time": "2022-02-07T09:45:13.085185Z"
    }
   },
   "source": [
    "### Afinity Propagation Clustering"
   ]
  },
  {
   "cell_type": "code",
   "execution_count": 191,
   "id": "722e6b17",
   "metadata": {
    "ExecuteTime": {
     "end_time": "2022-02-11T21:35:56.755281Z",
     "start_time": "2022-02-11T20:53:18.297194Z"
    }
   },
   "outputs": [
    {
     "data": {
      "text/plain": [
       "[<matplotlib.lines.Line2D at 0x23570a0e700>]"
      ]
     },
     "execution_count": 191,
     "metadata": {},
     "output_type": "execute_result"
    },
    {
     "data": {
      "image/png": "[encoded data removed]",
      "text/plain": [
       "<Figure size 720x504 with 1 Axes>"
      ]
     },
     "metadata": {
      "needs_background": "light"
     },
     "output_type": "display_data"
    }
   ],
   "source": [
    "#Run search for the best preference parameter\n",
    "preferences = np.arange(-50,-4600,-1000)\n",
    "clusters = []\n",
    "\n",
    "for p in preferences:\n",
    "    af = AffinityPropagation(preference=p, damping=0.6, max_iter=400, verbose=False).fit(x)\n",
    "    labels_af = pd.DataFrame(af.labels_)\n",
    "    clusters.append(len(af.cluster_centers_indices_))\n",
    "\n",
    "plt.figure(figsize=(10,7))\n",
    "plt.xlabel(\"Preference\")\n",
    "plt.ylabel(\"Number of clusters\")\n",
    "plt.plot(preferences,clusters, marker='o')"
   ]
  },
  {
   "cell_type": "code",
   "execution_count": 9,
   "id": "74c65f27",
   "metadata": {
    "ExecuteTime": {
     "end_time": "2022-02-12T23:53:14.034190Z",
     "start_time": "2022-02-12T23:28:41.379668Z"
    }
   },
   "outputs": [
    {
     "data": {
      "text/plain": [
       "7"
      ]
     },
     "execution_count": 9,
     "metadata": {},
     "output_type": "execute_result"
    }
   ],
   "source": [
    "#Create clusters based on selected parameter and append new cluster to observations in original dataframe\n",
    "af = AffinityPropagation(preference=-4400, damping=0.6,\n",
    "                         max_iter=400, verbose=False).fit(x)\n",
    "labels_af = pd.DataFrame(af.labels_)\n",
    "print(len(af.cluster_centers_indices_)) #Number of cluster\n",
    "df['APCluster'] = af.labels_.tolist()"
   ]
  },
  {
   "cell_type": "code",
   "execution_count": 227,
   "id": "7c3d3660",
   "metadata": {
    "ExecuteTime": {
     "end_time": "2022-02-11T22:46:34.861703Z",
     "start_time": "2022-02-11T22:46:34.852621Z"
    }
   },
   "outputs": [],
   "source": [
    "#Create list of select variables to include in radar chart\n",
    "graph_var = ['pace','shooting','dribbling','defending','physic','passing']"
   ]
  },
  {
   "cell_type": "code",
   "execution_count": 19,
   "id": "a787da5d",
   "metadata": {
    "ExecuteTime": {
     "end_time": "2022-02-13T00:15:24.037683Z",
     "start_time": "2022-02-13T00:15:23.903000Z"
    }
   },
   "outputs": [
    {
     "data": {
      "application/vnd.plotly.v1+json": {
       "config": {
        "plotlyServerURL": "https://plot.ly"
       },
       "data": [
        {
         "hovertemplate": "APCluster=0<br>value=%{r}<br>variable=%{theta}<extra></extra>",
         "legendgroup": "0",
         "line": {
          "color": "#636efa",
          "dash": "solid"
         },
         "marker": {
          "symbol": "circle"
         },
         "mode": "lines",
         "name": "0",
         "r": [
          73.87858347386172,
          69.6424957841484,
          74.37268128161888,
          77.7487352445194,
          63.35581787521079,
          73.1956155143339,
          10.252951096121416,
          73.87858347386172
         ],
         "showlegend": true,
         "subplot": "polar",
         "theta": [
          "pace",
          "shooting",
          "passing",
          "dribbling",
          "defending",
          "physic",
          "goalkeeping_positioning",
          "pace"
         ],
         "type": "scatterpolar"
        },
        {
         "hovertemplate": "APCluster=1<br>value=%{r}<br>variable=%{theta}<extra></extra>",
         "legendgroup": "1",
         "line": {
          "color": "#EF553B",
          "dash": "solid"
         },
         "marker": {
          "symbol": "circle"
         },
         "mode": "lines",
         "name": "1",
         "r": [
          0,
          0,
          0,
          0,
          0,
          0,
          68.78744650499287,
          0
         ],
         "showlegend": true,
         "subplot": "polar",
         "theta": [
          "pace",
          "shooting",
          "passing",
          "dribbling",
          "defending",
          "physic",
          "goalkeeping_positioning",
          "pace"
         ],
         "type": "scatterpolar"
        },
        {
         "hovertemplate": "APCluster=2<br>value=%{r}<br>variable=%{theta}<extra></extra>",
         "legendgroup": "2",
         "line": {
          "color": "#00cc96",
          "dash": "solid"
         },
         "marker": {
          "symbol": "circle"
         },
         "mode": "lines",
         "name": "2",
         "r": [
          70.12362637362638,
          63.36538461538461,
          68.35302197802197,
          70.53365384615384,
          60.058379120879124,
          69.2864010989011,
          10.603708791208792,
          70.12362637362638
         ],
         "showlegend": true,
         "subplot": "polar",
         "theta": [
          "pace",
          "shooting",
          "passing",
          "dribbling",
          "defending",
          "physic",
          "goalkeeping_positioning",
          "pace"
         ],
         "type": "scatterpolar"
        },
        {
         "hovertemplate": "APCluster=3<br>value=%{r}<br>variable=%{theta}<extra></extra>",
         "legendgroup": "3",
         "line": {
          "color": "#ab63fa",
          "dash": "solid"
         },
         "marker": {
          "symbol": "circle"
         },
         "mode": "lines",
         "name": "3",
         "r": [
          78.38007117437722,
          61.211387900355874,
          61.22135231316726,
          69.10106761565837,
          38.23487544483986,
          59.247686832740214,
          10.417081850533808,
          78.38007117437722
         ],
         "showlegend": true,
         "subplot": "polar",
         "theta": [
          "pace",
          "shooting",
          "passing",
          "dribbling",
          "defending",
          "physic",
          "goalkeeping_positioning",
          "pace"
         ],
         "type": "scatterpolar"
        },
        {
         "hovertemplate": "APCluster=4<br>value=%{r}<br>variable=%{theta}<extra></extra>",
         "legendgroup": "4",
         "line": {
          "color": "#FFA15A",
          "dash": "solid"
         },
         "marker": {
          "symbol": "circle"
         },
         "mode": "lines",
         "name": "4",
         "r": [
          65.7191896454699,
          46.78052898142938,
          58.895329206527855,
          61.8458075407991,
          64.81260551491278,
          70.29881823297693,
          10.490151941474394,
          65.7191896454699
         ],
         "showlegend": true,
         "subplot": "polar",
         "theta": [
          "pace",
          "shooting",
          "passing",
          "dribbling",
          "defending",
          "physic",
          "goalkeeping_positioning",
          "pace"
         ],
         "type": "scatterpolar"
        },
        {
         "hovertemplate": "APCluster=5<br>value=%{r}<br>variable=%{theta}<extra></extra>",
         "legendgroup": "5",
         "line": {
          "color": "#19d3f3",
          "dash": "solid"
         },
         "marker": {
          "symbol": "circle"
         },
         "mode": "lines",
         "name": "5",
         "r": [
          64.85146804835924,
          66.56476683937824,
          52.98963730569948,
          63.31951640759931,
          30.367875647668395,
          69.566493955095,
          10.507772020725389,
          64.85146804835924
         ],
         "showlegend": true,
         "subplot": "polar",
         "theta": [
          "pace",
          "shooting",
          "passing",
          "dribbling",
          "defending",
          "physic",
          "goalkeeping_positioning",
          "pace"
         ],
         "type": "scatterpolar"
        },
        {
         "hovertemplate": "APCluster=6<br>value=%{r}<br>variable=%{theta}<extra></extra>",
         "legendgroup": "6",
         "line": {
          "color": "#FF6692",
          "dash": "solid"
         },
         "marker": {
          "symbol": "circle"
         },
         "mode": "lines",
         "name": "6",
         "r": [
          58.94476987447699,
          33.273640167364015,
          47.13723849372385,
          50.54393305439331,
          64.7623430962343,
          71.7623430962343,
          10.467782426778243,
          58.94476987447699
         ],
         "showlegend": true,
         "subplot": "polar",
         "theta": [
          "pace",
          "shooting",
          "passing",
          "dribbling",
          "defending",
          "physic",
          "goalkeeping_positioning",
          "pace"
         ],
         "type": "scatterpolar"
        }
       ],
       "layout": {
        "height": 500,
        "legend": {
         "title": {
          "text": "APCluster"
         },
         "tracegroupgap": 0
        },
        "margin": {
         "t": 60
        },
        "polar": {
         "angularaxis": {
          "direction": "clockwise",
          "rotation": 90
         },
         "domain": {
          "x": [
           0,
           1
          ],
          "y": [
           0,
           1
          ]
         }
        },
        "template": {
         "data": {
          "bar": [
           {
            "error_x": {
             "color": "#2a3f5f"
            },
            "error_y": {
             "color": "#2a3f5f"
            },
            "marker": {
             "line": {
              "color": "#E5ECF6",
              "width": 0.5
             },
             "pattern": {
              "fillmode": "overlay",
              "size": 10,
              "solidity": 0.2
             }
            },
            "type": "bar"
           }
          ],
          "barpolar": [
           {
            "marker": {
             "line": {
              "color": "#E5ECF6",
              "width": 0.5
             },
             "pattern": {
              "fillmode": "overlay",
              "size": 10,
              "solidity": 0.2
             }
            },
            "type": "barpolar"
           }
          ],
          "carpet": [
           {
            "aaxis": {
             "endlinecolor": "#2a3f5f",
             "gridcolor": "white",
             "linecolor": "white",
             "minorgridcolor": "white",
             "startlinecolor": "#2a3f5f"
            },
            "baxis": {
             "endlinecolor": "#2a3f5f",
             "gridcolor": "white",
             "linecolor": "white",
             "minorgridcolor": "white",
             "startlinecolor": "#2a3f5f"
            },
            "type": "carpet"
           }
          ],
          "choropleth": [
           {
            "colorbar": {
             "outlinewidth": 0,
             "ticks": ""
            },
            "type": "choropleth"
           }
          ],
          "contour": [
           {
            "colorbar": {
             "outlinewidth": 0,
             "ticks": ""
            },
            "colorscale": [
             [
              0,
              "#0d0887"
             ],
             [
              0.1111111111111111,
              "#46039f"
             ],
             [
              0.2222222222222222,
              "#7201a8"
             ],
             [
              0.3333333333333333,
              "#9c179e"
             ],
             [
              0.4444444444444444,
              "#bd3786"
             ],
             [
              0.5555555555555556,
              "#d8576b"
             ],
             [
              0.6666666666666666,
              "#ed7953"
             ],
             [
              0.7777777777777778,
              "#fb9f3a"
             ],
             [
              0.8888888888888888,
              "#fdca26"
             ],
             [
              1,
              "#f0f921"
             ]
            ],
            "type": "contour"
           }
          ],
          "contourcarpet": [
           {
            "colorbar": {
             "outlinewidth": 0,
             "ticks": ""
            },
            "type": "contourcarpet"
           }
          ],
          "heatmap": [
           {
            "colorbar": {
             "outlinewidth": 0,
             "ticks": ""
            },
            "colorscale": [
             [
              0,
              "#0d0887"
             ],
             [
              0.1111111111111111,
              "#46039f"
             ],
             [
              0.2222222222222222,
              "#7201a8"
             ],
             [
              0.3333333333333333,
              "#9c179e"
             ],
             [
              0.4444444444444444,
              "#bd3786"
             ],
             [
              0.5555555555555556,
              "#d8576b"
             ],
             [
              0.6666666666666666,
              "#ed7953"
             ],
             [
              0.7777777777777778,
              "#fb9f3a"
             ],
             [
              0.8888888888888888,
              "#fdca26"
             ],
             [
              1,
              "#f0f921"
             ]
            ],
            "type": "heatmap"
           }
          ],
          "heatmapgl": [
           {
            "colorbar": {
             "outlinewidth": 0,
             "ticks": ""
            },
            "colorscale": [
             [
              0,
              "#0d0887"
             ],
             [
              0.1111111111111111,
              "#46039f"
             ],
             [
              0.2222222222222222,
              "#7201a8"
             ],
             [
              0.3333333333333333,
              "#9c179e"
             ],
             [
              0.4444444444444444,
              "#bd3786"
             ],
             [
              0.5555555555555556,
              "#d8576b"
             ],
             [
              0.6666666666666666,
              "#ed7953"
             ],
             [
              0.7777777777777778,
              "#fb9f3a"
             ],
             [
              0.8888888888888888,
              "#fdca26"
             ],
             [
              1,
              "#f0f921"
             ]
            ],
            "type": "heatmapgl"
           }
          ],
          "histogram": [
           {
            "marker": {
             "pattern": {
              "fillmode": "overlay",
              "size": 10,
              "solidity": 0.2
             }
            },
            "type": "histogram"
           }
          ],
          "histogram2d": [
           {
            "colorbar": {
             "outlinewidth": 0,
             "ticks": ""
            },
            "colorscale": [
             [
              0,
              "#0d0887"
             ],
             [
              0.1111111111111111,
              "#46039f"
             ],
             [
              0.2222222222222222,
              "#7201a8"
             ],
             [
              0.3333333333333333,
              "#9c179e"
             ],
             [
              0.4444444444444444,
              "#bd3786"
             ],
             [
              0.5555555555555556,
              "#d8576b"
             ],
             [
              0.6666666666666666,
              "#ed7953"
             ],
             [
              0.7777777777777778,
              "#fb9f3a"
             ],
             [
              0.8888888888888888,
              "#fdca26"
             ],
             [
              1,
              "#f0f921"
             ]
            ],
            "type": "histogram2d"
           }
          ],
          "histogram2dcontour": [
           {
            "colorbar": {
             "outlinewidth": 0,
             "ticks": ""
            },
            "colorscale": [
             [
              0,
              "#0d0887"
             ],
             [
              0.1111111111111111,
              "#46039f"
             ],
             [
              0.2222222222222222,
              "#7201a8"
             ],
             [
              0.3333333333333333,
              "#9c179e"
             ],
             [
              0.4444444444444444,
              "#bd3786"
             ],
             [
              0.5555555555555556,
              "#d8576b"
             ],
             [
              0.6666666666666666,
              "#ed7953"
             ],
             [
              0.7777777777777778,
              "#fb9f3a"
             ],
             [
              0.8888888888888888,
              "#fdca26"
             ],
             [
              1,
              "#f0f921"
             ]
            ],
            "type": "histogram2dcontour"
           }
          ],
          "mesh3d": [
           {
            "colorbar": {
             "outlinewidth": 0,
             "ticks": ""
            },
            "type": "mesh3d"
           }
          ],
          "parcoords": [
           {
            "line": {
             "colorbar": {
              "outlinewidth": 0,
              "ticks": ""
             }
            },
            "type": "parcoords"
           }
          ],
          "pie": [
           {
            "automargin": true,
            "type": "pie"
           }
          ],
          "scatter": [
           {
            "marker": {
             "colorbar": {
              "outlinewidth": 0,
              "ticks": ""
             }
            },
            "type": "scatter"
           }
          ],
          "scatter3d": [
           {
            "line": {
             "colorbar": {
              "outlinewidth": 0,
              "ticks": ""
             }
            },
            "marker": {
             "colorbar": {
              "outlinewidth": 0,
              "ticks": ""
             }
            },
            "type": "scatter3d"
           }
          ],
          "scattercarpet": [
           {
            "marker": {
             "colorbar": {
              "outlinewidth": 0,
              "ticks": ""
             }
            },
            "type": "scattercarpet"
           }
          ],
          "scattergeo": [
           {
            "marker": {
             "colorbar": {
              "outlinewidth": 0,
              "ticks": ""
             }
            },
            "type": "scattergeo"
           }
          ],
          "scattergl": [
           {
            "marker": {
             "colorbar": {
              "outlinewidth": 0,
              "ticks": ""
             }
            },
            "type": "scattergl"
           }
          ],
          "scattermapbox": [
           {
            "marker": {
             "colorbar": {
              "outlinewidth": 0,
              "ticks": ""
             }
            },
            "type": "scattermapbox"
           }
          ],
          "scatterpolar": [
           {
            "marker": {
             "colorbar": {
              "outlinewidth": 0,
              "ticks": ""
             }
            },
            "type": "scatterpolar"
           }
          ],
          "scatterpolargl": [
           {
            "marker": {
             "colorbar": {
              "outlinewidth": 0,
              "ticks": ""
             }
            },
            "type": "scatterpolargl"
           }
          ],
          "scatterternary": [
           {
            "marker": {
             "colorbar": {
              "outlinewidth": 0,
              "ticks": ""
             }
            },
            "type": "scatterternary"
           }
          ],
          "surface": [
           {
            "colorbar": {
             "outlinewidth": 0,
             "ticks": ""
            },
            "colorscale": [
             [
              0,
              "#0d0887"
             ],
             [
              0.1111111111111111,
              "#46039f"
             ],
             [
              0.2222222222222222,
              "#7201a8"
             ],
             [
              0.3333333333333333,
              "#9c179e"
             ],
             [
              0.4444444444444444,
              "#bd3786"
             ],
             [
              0.5555555555555556,
              "#d8576b"
             ],
             [
              0.6666666666666666,
              "#ed7953"
             ],
             [
              0.7777777777777778,
              "#fb9f3a"
             ],
             [
              0.8888888888888888,
              "#fdca26"
             ],
             [
              1,
              "#f0f921"
             ]
            ],
            "type": "surface"
           }
          ],
          "table": [
           {
            "cells": {
             "fill": {
              "color": "#EBF0F8"
             },
             "line": {
              "color": "white"
             }
            },
            "header": {
             "fill": {
              "color": "#C8D4E3"
             },
             "line": {
              "color": "white"
             }
            },
            "type": "table"
           }
          ]
         },
         "layout": {
          "annotationdefaults": {
           "arrowcolor": "#2a3f5f",
           "arrowhead": 0,
           "arrowwidth": 1
          },
          "autotypenumbers": "strict",
          "coloraxis": {
           "colorbar": {
            "outlinewidth": 0,
            "ticks": ""
           }
          },
          "colorscale": {
           "diverging": [
            [
             0,
             "#8e0152"
            ],
            [
             0.1,
             "#c51b7d"
            ],
            [
             0.2,
             "#de77ae"
            ],
            [
             0.3,
             "#f1b6da"
            ],
            [
             0.4,
             "#fde0ef"
            ],
            [
             0.5,
             "#f7f7f7"
            ],
            [
             0.6,
             "#e6f5d0"
            ],
            [
             0.7,
             "#b8e186"
            ],
            [
             0.8,
             "#7fbc41"
            ],
            [
             0.9,
             "#4d9221"
            ],
            [
             1,
             "#276419"
            ]
           ],
           "sequential": [
            [
             0,
             "#0d0887"
            ],
            [
             0.1111111111111111,
             "#46039f"
            ],
            [
             0.2222222222222222,
             "#7201a8"
            ],
            [
             0.3333333333333333,
             "#9c179e"
            ],
            [
             0.4444444444444444,
             "#bd3786"
            ],
            [
             0.5555555555555556,
             "#d8576b"
            ],
            [
             0.6666666666666666,
             "#ed7953"
            ],
            [
             0.7777777777777778,
             "#fb9f3a"
            ],
            [
             0.8888888888888888,
             "#fdca26"
            ],
            [
             1,
             "#f0f921"
            ]
           ],
           "sequentialminus": [
            [
             0,
             "#0d0887"
            ],
            [
             0.1111111111111111,
             "#46039f"
            ],
            [
             0.2222222222222222,
             "#7201a8"
            ],
            [
             0.3333333333333333,
             "#9c179e"
            ],
            [
             0.4444444444444444,
             "#bd3786"
            ],
            [
             0.5555555555555556,
             "#d8576b"
            ],
            [
             0.6666666666666666,
             "#ed7953"
            ],
            [
             0.7777777777777778,
             "#fb9f3a"
            ],
            [
             0.8888888888888888,
             "#fdca26"
            ],
            [
             1,
             "#f0f921"
            ]
           ]
          },
          "colorway": [
           "#636efa",
           "#EF553B",
           "#00cc96",
           "#ab63fa",
           "#FFA15A",
           "#19d3f3",
           "#FF6692",
           "#B6E880",
           "#FF97FF",
           "#FECB52"
          ],
          "font": {
           "color": "#2a3f5f"
          },
          "geo": {
           "bgcolor": "white",
           "lakecolor": "white",
           "landcolor": "#E5ECF6",
           "showlakes": true,
           "showland": true,
           "subunitcolor": "white"
          },
          "hoverlabel": {
           "align": "left"
          },
          "hovermode": "closest",
          "mapbox": {
           "style": "light"
          },
          "paper_bgcolor": "white",
          "plot_bgcolor": "#E5ECF6",
          "polar": {
           "angularaxis": {
            "gridcolor": "white",
            "linecolor": "white",
            "ticks": ""
           },
           "bgcolor": "#E5ECF6",
           "radialaxis": {
            "gridcolor": "white",
            "linecolor": "white",
            "ticks": ""
           }
          },
          "scene": {
           "xaxis": {
            "backgroundcolor": "#E5ECF6",
            "gridcolor": "white",
            "gridwidth": 2,
            "linecolor": "white",
            "showbackground": true,
            "ticks": "",
            "zerolinecolor": "white"
           },
           "yaxis": {
            "backgroundcolor": "#E5ECF6",
            "gridcolor": "white",
            "gridwidth": 2,
            "linecolor": "white",
            "showbackground": true,
            "ticks": "",
            "zerolinecolor": "white"
           },
           "zaxis": {
            "backgroundcolor": "#E5ECF6",
            "gridcolor": "white",
            "gridwidth": 2,
            "linecolor": "white",
            "showbackground": true,
            "ticks": "",
            "zerolinecolor": "white"
           }
          },
          "shapedefaults": {
           "line": {
            "color": "#2a3f5f"
           }
          },
          "ternary": {
           "aaxis": {
            "gridcolor": "white",
            "linecolor": "white",
            "ticks": ""
           },
           "baxis": {
            "gridcolor": "white",
            "linecolor": "white",
            "ticks": ""
           },
           "bgcolor": "#E5ECF6",
           "caxis": {
            "gridcolor": "white",
            "linecolor": "white",
            "ticks": ""
           }
          },
          "title": {
           "x": 0.05
          },
          "xaxis": {
           "automargin": true,
           "gridcolor": "white",
           "linecolor": "white",
           "ticks": "",
           "title": {
            "standoff": 15
           },
           "zerolinecolor": "white",
           "zerolinewidth": 2
          },
          "yaxis": {
           "automargin": true,
           "gridcolor": "white",
           "linecolor": "white",
           "ticks": "",
           "title": {
            "standoff": 15
           },
           "zerolinecolor": "white",
           "zerolinewidth": 2
          }
         }
        },
        "width": 700
       }
      },
      "text/html": [
       "<div>                            <div id=\"effe255b-7ce6-48b2-a6f3-b3c3c45f3812\" class=\"plotly-graph-div\" style=\"height:500px; width:700px;\"></div>            <script type=\"text/javascript\">                require([\"plotly\"], function(Plotly) {                    window.PLOTLYENV=window.PLOTLYENV || {};                                    if (document.getElementById(\"effe255b-7ce6-48b2-a6f3-b3c3c45f3812\")) {                    Plotly.newPlot(                        \"effe255b-7ce6-48b2-a6f3-b3c3c45f3812\",                        [{\"hovertemplate\":\"APCluster=0<br>value=%{r}<br>variable=%{theta}<extra></extra>\",\"legendgroup\":\"0\",\"line\":{\"color\":\"#636efa\",\"dash\":\"solid\"},\"marker\":{\"symbol\":\"circle\"},\"mode\":\"lines\",\"name\":\"0\",\"r\":[73.87858347386172,69.6424957841484,74.37268128161888,77.7487352445194,63.35581787521079,73.1956155143339,10.252951096121416,73.87858347386172],\"showlegend\":true,\"subplot\":\"polar\",\"theta\":[\"pace\",\"shooting\",\"passing\",\"dribbling\",\"defending\",\"physic\",\"goalkeeping_positioning\",\"pace\"],\"type\":\"scatterpolar\"},{\"hovertemplate\":\"APCluster=1<br>value=%{r}<br>variable=%{theta}<extra></extra>\",\"legendgroup\":\"1\",\"line\":{\"color\":\"#EF553B\",\"dash\":\"solid\"},\"marker\":{\"symbol\":\"circle\"},\"mode\":\"lines\",\"name\":\"1\",\"r\":[0.0,0.0,0.0,0.0,0.0,0.0,68.78744650499287,0.0],\"showlegend\":true,\"subplot\":\"polar\",\"theta\":[\"pace\",\"shooting\",\"passing\",\"dribbling\",\"defending\",\"physic\",\"goalkeeping_positioning\",\"pace\"],\"type\":\"scatterpolar\"},{\"hovertemplate\":\"APCluster=2<br>value=%{r}<br>variable=%{theta}<extra></extra>\",\"legendgroup\":\"2\",\"line\":{\"color\":\"#00cc96\",\"dash\":\"solid\"},\"marker\":{\"symbol\":\"circle\"},\"mode\":\"lines\",\"name\":\"2\",\"r\":[70.12362637362638,63.36538461538461,68.35302197802197,70.53365384615384,60.058379120879124,69.2864010989011,10.603708791208792,70.12362637362638],\"showlegend\":true,\"subplot\":\"polar\",\"theta\":[\"pace\",\"shooting\",\"passing\",\"dribbling\",\"defending\",\"physic\",\"goalkeeping_positioning\",\"pace\"],\"type\":\"scatterpolar\"},{\"hovertemplate\":\"APCluster=3<br>value=%{r}<br>variable=%{theta}<extra></extra>\",\"legendgroup\":\"3\",\"line\":{\"color\":\"#ab63fa\",\"dash\":\"solid\"},\"marker\":{\"symbol\":\"circle\"},\"mode\":\"lines\",\"name\":\"3\",\"r\":[78.38007117437722,61.211387900355874,61.22135231316726,69.10106761565837,38.23487544483986,59.247686832740214,10.417081850533808,78.38007117437722],\"showlegend\":true,\"subplot\":\"polar\",\"theta\":[\"pace\",\"shooting\",\"passing\",\"dribbling\",\"defending\",\"physic\",\"goalkeeping_positioning\",\"pace\"],\"type\":\"scatterpolar\"},{\"hovertemplate\":\"APCluster=4<br>value=%{r}<br>variable=%{theta}<extra></extra>\",\"legendgroup\":\"4\",\"line\":{\"color\":\"#FFA15A\",\"dash\":\"solid\"},\"marker\":{\"symbol\":\"circle\"},\"mode\":\"lines\",\"name\":\"4\",\"r\":[65.7191896454699,46.78052898142938,58.895329206527855,61.8458075407991,64.81260551491278,70.29881823297693,10.490151941474394,65.7191896454699],\"showlegend\":true,\"subplot\":\"polar\",\"theta\":[\"pace\",\"shooting\",\"passing\",\"dribbling\",\"defending\",\"physic\",\"goalkeeping_positioning\",\"pace\"],\"type\":\"scatterpolar\"},{\"hovertemplate\":\"APCluster=5<br>value=%{r}<br>variable=%{theta}<extra></extra>\",\"legendgroup\":\"5\",\"line\":{\"color\":\"#19d3f3\",\"dash\":\"solid\"},\"marker\":{\"symbol\":\"circle\"},\"mode\":\"lines\",\"name\":\"5\",\"r\":[64.85146804835924,66.56476683937824,52.98963730569948,63.31951640759931,30.367875647668395,69.566493955095,10.507772020725389,64.85146804835924],\"showlegend\":true,\"subplot\":\"polar\",\"theta\":[\"pace\",\"shooting\",\"passing\",\"dribbling\",\"defending\",\"physic\",\"goalkeeping_positioning\",\"pace\"],\"type\":\"scatterpolar\"},{\"hovertemplate\":\"APCluster=6<br>value=%{r}<br>variable=%{theta}<extra></extra>\",\"legendgroup\":\"6\",\"line\":{\"color\":\"#FF6692\",\"dash\":\"solid\"},\"marker\":{\"symbol\":\"circle\"},\"mode\":\"lines\",\"name\":\"6\",\"r\":[58.94476987447699,33.273640167364015,47.13723849372385,50.54393305439331,64.7623430962343,71.7623430962343,10.467782426778243,58.94476987447699],\"showlegend\":true,\"subplot\":\"polar\",\"theta\":[\"pace\",\"shooting\",\"passing\",\"dribbling\",\"defending\",\"physic\",\"goalkeeping_positioning\",\"pace\"],\"type\":\"scatterpolar\"}],                        {\"template\":{\"data\":{\"bar\":[{\"error_x\":{\"color\":\"#2a3f5f\"},\"error_y\":{\"color\":\"#2a3f5f\"},\"marker\":{\"line\":{\"color\":\"#E5ECF6\",\"width\":0.5},\"pattern\":{\"fillmode\":\"overlay\",\"size\":10,\"solidity\":0.2}},\"type\":\"bar\"}],\"barpolar\":[{\"marker\":{\"line\":{\"color\":\"#E5ECF6\",\"width\":0.5},\"pattern\":{\"fillmode\":\"overlay\",\"size\":10,\"solidity\":0.2}},\"type\":\"barpolar\"}],\"carpet\":[{\"aaxis\":{\"endlinecolor\":\"#2a3f5f\",\"gridcolor\":\"white\",\"linecolor\":\"white\",\"minorgridcolor\":\"white\",\"startlinecolor\":\"#2a3f5f\"},\"baxis\":{\"endlinecolor\":\"#2a3f5f\",\"gridcolor\":\"white\",\"linecolor\":\"white\",\"minorgridcolor\":\"white\",\"startlinecolor\":\"#2a3f5f\"},\"type\":\"carpet\"}],\"choropleth\":[{\"colorbar\":{\"outlinewidth\":0,\"ticks\":\"\"},\"type\":\"choropleth\"}],\"contour\":[{\"colorbar\":{\"outlinewidth\":0,\"ticks\":\"\"},\"colorscale\":[[0.0,\"#0d0887\"],[0.1111111111111111,\"#46039f\"],[0.2222222222222222,\"#7201a8\"],[0.3333333333333333,\"#9c179e\"],[0.4444444444444444,\"#bd3786\"],[0.5555555555555556,\"#d8576b\"],[0.6666666666666666,\"#ed7953\"],[0.7777777777777778,\"#fb9f3a\"],[0.8888888888888888,\"#fdca26\"],[1.0,\"#f0f921\"]],\"type\":\"contour\"}],\"contourcarpet\":[{\"colorbar\":{\"outlinewidth\":0,\"ticks\":\"\"},\"type\":\"contourcarpet\"}],\"heatmap\":[{\"colorbar\":{\"outlinewidth\":0,\"ticks\":\"\"},\"colorscale\":[[0.0,\"#0d0887\"],[0.1111111111111111,\"#46039f\"],[0.2222222222222222,\"#7201a8\"],[0.3333333333333333,\"#9c179e\"],[0.4444444444444444,\"#bd3786\"],[0.5555555555555556,\"#d8576b\"],[0.6666666666666666,\"#ed7953\"],[0.7777777777777778,\"#fb9f3a\"],[0.8888888888888888,\"#fdca26\"],[1.0,\"#f0f921\"]],\"type\":\"heatmap\"}],\"heatmapgl\":[{\"colorbar\":{\"outlinewidth\":0,\"ticks\":\"\"},\"colorscale\":[[0.0,\"#0d0887\"],[0.1111111111111111,\"#46039f\"],[0.2222222222222222,\"#7201a8\"],[0.3333333333333333,\"#9c179e\"],[0.4444444444444444,\"#bd3786\"],[0.5555555555555556,\"#d8576b\"],[0.6666666666666666,\"#ed7953\"],[0.7777777777777778,\"#fb9f3a\"],[0.8888888888888888,\"#fdca26\"],[1.0,\"#f0f921\"]],\"type\":\"heatmapgl\"}],\"histogram\":[{\"marker\":{\"pattern\":{\"fillmode\":\"overlay\",\"size\":10,\"solidity\":0.2}},\"type\":\"histogram\"}],\"histogram2d\":[{\"colorbar\":{\"outlinewidth\":0,\"ticks\":\"\"},\"colorscale\":[[0.0,\"#0d0887\"],[0.1111111111111111,\"#46039f\"],[0.2222222222222222,\"#7201a8\"],[0.3333333333333333,\"#9c179e\"],[0.4444444444444444,\"#bd3786\"],[0.5555555555555556,\"#d8576b\"],[0.6666666666666666,\"#ed7953\"],[0.7777777777777778,\"#fb9f3a\"],[0.8888888888888888,\"#fdca26\"],[1.0,\"#f0f921\"]],\"type\":\"histogram2d\"}],\"histogram2dcontour\":[{\"colorbar\":{\"outlinewidth\":0,\"ticks\":\"\"},\"colorscale\":[[0.0,\"#0d0887\"],[0.1111111111111111,\"#46039f\"],[0.2222222222222222,\"#7201a8\"],[0.3333333333333333,\"#9c179e\"],[0.4444444444444444,\"#bd3786\"],[0.5555555555555556,\"#d8576b\"],[0.6666666666666666,\"#ed7953\"],[0.7777777777777778,\"#fb9f3a\"],[0.8888888888888888,\"#fdca26\"],[1.0,\"#f0f921\"]],\"type\":\"histogram2dcontour\"}],\"mesh3d\":[{\"colorbar\":{\"outlinewidth\":0,\"ticks\":\"\"},\"type\":\"mesh3d\"}],\"parcoords\":[{\"line\":{\"colorbar\":{\"outlinewidth\":0,\"ticks\":\"\"}},\"type\":\"parcoords\"}],\"pie\":[{\"automargin\":true,\"type\":\"pie\"}],\"scatter\":[{\"marker\":{\"colorbar\":{\"outlinewidth\":0,\"ticks\":\"\"}},\"type\":\"scatter\"}],\"scatter3d\":[{\"line\":{\"colorbar\":{\"outlinewidth\":0,\"ticks\":\"\"}},\"marker\":{\"colorbar\":{\"outlinewidth\":0,\"ticks\":\"\"}},\"type\":\"scatter3d\"}],\"scattercarpet\":[{\"marker\":{\"colorbar\":{\"outlinewidth\":0,\"ticks\":\"\"}},\"type\":\"scattercarpet\"}],\"scattergeo\":[{\"marker\":{\"colorbar\":{\"outlinewidth\":0,\"ticks\":\"\"}},\"type\":\"scattergeo\"}],\"scattergl\":[{\"marker\":{\"colorbar\":{\"outlinewidth\":0,\"ticks\":\"\"}},\"type\":\"scattergl\"}],\"scattermapbox\":[{\"marker\":{\"colorbar\":{\"outlinewidth\":0,\"ticks\":\"\"}},\"type\":\"scattermapbox\"}],\"scatterpolar\":[{\"marker\":{\"colorbar\":{\"outlinewidth\":0,\"ticks\":\"\"}},\"type\":\"scatterpolar\"}],\"scatterpolargl\":[{\"marker\":{\"colorbar\":{\"outlinewidth\":0,\"ticks\":\"\"}},\"type\":\"scatterpolargl\"}],\"scatterternary\":[{\"marker\":{\"colorbar\":{\"outlinewidth\":0,\"ticks\":\"\"}},\"type\":\"scatterternary\"}],\"surface\":[{\"colorbar\":{\"outlinewidth\":0,\"ticks\":\"\"},\"colorscale\":[[0.0,\"#0d0887\"],[0.1111111111111111,\"#46039f\"],[0.2222222222222222,\"#7201a8\"],[0.3333333333333333,\"#9c179e\"],[0.4444444444444444,\"#bd3786\"],[0.5555555555555556,\"#d8576b\"],[0.6666666666666666,\"#ed7953\"],[0.7777777777777778,\"#fb9f3a\"],[0.8888888888888888,\"#fdca26\"],[1.0,\"#f0f921\"]],\"type\":\"surface\"}],\"table\":[{\"cells\":{\"fill\":{\"color\":\"#EBF0F8\"},\"line\":{\"color\":\"white\"}},\"header\":{\"fill\":{\"color\":\"#C8D4E3\"},\"line\":{\"color\":\"white\"}},\"type\":\"table\"}]},\"layout\":{\"annotationdefaults\":{\"arrowcolor\":\"#2a3f5f\",\"arrowhead\":0,\"arrowwidth\":1},\"autotypenumbers\":\"strict\",\"coloraxis\":{\"colorbar\":{\"outlinewidth\":0,\"ticks\":\"\"}},\"colorscale\":{\"diverging\":[[0,\"#8e0152\"],[0.1,\"#c51b7d\"],[0.2,\"#de77ae\"],[0.3,\"#f1b6da\"],[0.4,\"#fde0ef\"],[0.5,\"#f7f7f7\"],[0.6,\"#e6f5d0\"],[0.7,\"#b8e186\"],[0.8,\"#7fbc41\"],[0.9,\"#4d9221\"],[1,\"#276419\"]],\"sequential\":[[0.0,\"#0d0887\"],[0.1111111111111111,\"#46039f\"],[0.2222222222222222,\"#7201a8\"],[0.3333333333333333,\"#9c179e\"],[0.4444444444444444,\"#bd3786\"],[0.5555555555555556,\"#d8576b\"],[0.6666666666666666,\"#ed7953\"],[0.7777777777777778,\"#fb9f3a\"],[0.8888888888888888,\"#fdca26\"],[1.0,\"#f0f921\"]],\"sequentialminus\":[[0.0,\"#0d0887\"],[0.1111111111111111,\"#46039f\"],[0.2222222222222222,\"#7201a8\"],[0.3333333333333333,\"#9c179e\"],[0.4444444444444444,\"#bd3786\"],[0.5555555555555556,\"#d8576b\"],[0.6666666666666666,\"#ed7953\"],[0.7777777777777778,\"#fb9f3a\"],[0.8888888888888888,\"#fdca26\"],[1.0,\"#f0f921\"]]},\"colorway\":[\"#636efa\",\"#EF553B\",\"#00cc96\",\"#ab63fa\",\"#FFA15A\",\"#19d3f3\",\"#FF6692\",\"#B6E880\",\"#FF97FF\",\"#FECB52\"],\"font\":{\"color\":\"#2a3f5f\"},\"geo\":{\"bgcolor\":\"white\",\"lakecolor\":\"white\",\"landcolor\":\"#E5ECF6\",\"showlakes\":true,\"showland\":true,\"subunitcolor\":\"white\"},\"hoverlabel\":{\"align\":\"left\"},\"hovermode\":\"closest\",\"mapbox\":{\"style\":\"light\"},\"paper_bgcolor\":\"white\",\"plot_bgcolor\":\"#E5ECF6\",\"polar\":{\"angularaxis\":{\"gridcolor\":\"white\",\"linecolor\":\"white\",\"ticks\":\"\"},\"bgcolor\":\"#E5ECF6\",\"radialaxis\":{\"gridcolor\":\"white\",\"linecolor\":\"white\",\"ticks\":\"\"}},\"scene\":{\"xaxis\":{\"backgroundcolor\":\"#E5ECF6\",\"gridcolor\":\"white\",\"gridwidth\":2,\"linecolor\":\"white\",\"showbackground\":true,\"ticks\":\"\",\"zerolinecolor\":\"white\"},\"yaxis\":{\"backgroundcolor\":\"#E5ECF6\",\"gridcolor\":\"white\",\"gridwidth\":2,\"linecolor\":\"white\",\"showbackground\":true,\"ticks\":\"\",\"zerolinecolor\":\"white\"},\"zaxis\":{\"backgroundcolor\":\"#E5ECF6\",\"gridcolor\":\"white\",\"gridwidth\":2,\"linecolor\":\"white\",\"showbackground\":true,\"ticks\":\"\",\"zerolinecolor\":\"white\"}},\"shapedefaults\":{\"line\":{\"color\":\"#2a3f5f\"}},\"ternary\":{\"aaxis\":{\"gridcolor\":\"white\",\"linecolor\":\"white\",\"ticks\":\"\"},\"baxis\":{\"gridcolor\":\"white\",\"linecolor\":\"white\",\"ticks\":\"\"},\"bgcolor\":\"#E5ECF6\",\"caxis\":{\"gridcolor\":\"white\",\"linecolor\":\"white\",\"ticks\":\"\"}},\"title\":{\"x\":0.05},\"xaxis\":{\"automargin\":true,\"gridcolor\":\"white\",\"linecolor\":\"white\",\"ticks\":\"\",\"title\":{\"standoff\":15},\"zerolinecolor\":\"white\",\"zerolinewidth\":2},\"yaxis\":{\"automargin\":true,\"gridcolor\":\"white\",\"linecolor\":\"white\",\"ticks\":\"\",\"title\":{\"standoff\":15},\"zerolinecolor\":\"white\",\"zerolinewidth\":2}}},\"polar\":{\"domain\":{\"x\":[0.0,1.0],\"y\":[0.0,1.0]},\"angularaxis\":{\"direction\":\"clockwise\",\"rotation\":90}},\"legend\":{\"title\":{\"text\":\"APCluster\"},\"tracegroupgap\":0},\"margin\":{\"t\":60},\"height\":500,\"width\":700},                        {\"responsive\": true}                    ).then(function(){\n",
       "                            \n",
       "var gd = document.getElementById('effe255b-7ce6-48b2-a6f3-b3c3c45f3812');\n",
       "var x = new MutationObserver(function (mutations, observer) {{\n",
       "        var display = window.getComputedStyle(gd).display;\n",
       "        if (!display || display === 'none') {{\n",
       "            console.log([gd, 'removed!']);\n",
       "            Plotly.purge(gd);\n",
       "            observer.disconnect();\n",
       "        }}\n",
       "}});\n",
       "\n",
       "// Listen for the removal of the full notebook cells\n",
       "var notebookContainer = gd.closest('#notebook-container');\n",
       "if (notebookContainer) {{\n",
       "    x.observe(notebookContainer, {childList: true});\n",
       "}}\n",
       "\n",
       "// Listen for the clearing of the current output cell\n",
       "var outputEl = gd.closest('.output');\n",
       "if (outputEl) {{\n",
       "    x.observe(outputEl, {childList: true});\n",
       "}}\n",
       "\n",
       "                        })                };                });            </script>        </div>"
      ]
     },
     "metadata": {},
     "output_type": "display_data"
    }
   ],
   "source": [
    "#Create radar chart for selected variables on each cluster\n",
    "polar=df.groupby(\"APCluster\").mean().reset_index()\n",
    "polar=pd.melt(polar,id_vars=[\"APCluster\"])\n",
    "polar=polar[polar['variable'].isin(graph_var)]\n",
    "fig4 = px.line_polar(polar, r=\"value\", theta=\"variable\", color=\"APCluster\", line_close=True,height=500,width=700)\n",
    "fig4.show()"
   ]
  },
  {
   "cell_type": "code",
   "execution_count": 20,
   "id": "8036c179",
   "metadata": {
    "ExecuteTime": {
     "end_time": "2022-02-13T00:16:43.299841Z",
     "start_time": "2022-02-13T00:16:43.253694Z"
    }
   },
   "outputs": [],
   "source": [
    "#Create summary statistics of selected variables\n",
    "ap_char = df[['APCluster','pace','shooting','dribbling','defending','physic','passing','value_eur']].groupby('APCluster').agg('mean').round(0).reset_index()\n",
    "ap_count = pd.DataFrame(df['APCluster'].value_counts()).reset_index()\n",
    "ap_count.columns = ['APCluster','Number of Player']\n",
    "ap_char = ap_char.merge(ap_count,on='APCluster',how='left')\n",
    "ap_char = ap_char.astype('int')\n",
    "ap_char.columns = ['APCluster', 'Pace', 'Shooting', 'Dribbling', 'Defending', 'Physic',\n",
    "       'Passing', 'Value (Eur)', 'Number of Player']\n",
    "ap_char['Value (Eur)'] = ap_char['Value (Eur)'].astype('int').apply(lambda x : \"{:,}\".format(x))\n",
    "ap_char.to_markdown('APChar.md',index=False)"
   ]
  },
  {
   "cell_type": "code",
   "execution_count": null,
   "id": "b754b91e",
   "metadata": {},
   "outputs": [],
   "source": [
    "#Create graph of number of position in each cluster\n",
    "pos_by_ap = df[['position','KCluster','APCluster']].groupby(['APCluster','position']).agg('count').reset_index()\n",
    "pos_by_ap.columns = ['APCluster','Position','Number of Players']\n",
    "pos_by_ap.to_markdown('pos_ap.md',index=False)\n",
    "plot_by_ap = pos_by_ap.pivot('APCluster','Position','Number of Players').fillna(0)\n",
    "plot_by_ap.plot(kind='bar',\n",
    "        stacked=False,\n",
    "        title='',\n",
    "               figsize = (11,8),colormap='viridis')\n",
    "plt.savefig('AP_Num.png')"
   ]
  }
 ],
 "metadata": {
  "kernelspec": {
   "display_name": "Python 3 (ipykernel)",
   "language": "python",
   "name": "python3"
  },
  "language_info": {
   "codemirror_mode": {
    "name": "ipython",
    "version": 3
   },
   "file_extension": ".py",
   "mimetype": "text/x-python",
   "name": "python",
   "nbconvert_exporter": "python",
   "pygments_lexer": "ipython3",
   "version": "3.9.6"
  },
  "toc": {
   "base_numbering": 1,
   "nav_menu": {},
   "number_sections": true,
   "sideBar": true,
   "skip_h1_title": false,
   "title_cell": "Table of Contents",
   "title_sidebar": "Contents",
   "toc_cell": false,
   "toc_position": {
    "height": "calc(100% - 180px)",
    "left": "10px",
    "top": "150px",
    "width": "441.6px"
   },
   "toc_section_display": true,
   "toc_window_display": true
  }
 },
 "nbformat": 4,
 "nbformat_minor": 5
}
